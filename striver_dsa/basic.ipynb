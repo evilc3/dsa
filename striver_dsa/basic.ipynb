{
 "cells": [
  {
   "cell_type": "code",
   "execution_count": null,
   "metadata": {},
   "outputs": [],
   "source": [
    "# https://takeuforward.org/strivers-a2z-dsa-course/strivers-a2z-dsa-course-sheet-2/"
   ]
  },
  {
   "cell_type": "code",
   "execution_count": 4,
   "metadata": {},
   "outputs": [
    {
     "name": "stdout",
     "output_type": "stream",
     "text": [
      "3\n",
      "2\n",
      "1\n",
      "0\n"
     ]
    }
   ],
   "source": [
    "### print from N to 1 \n",
    "\n",
    "def print_n(x, n):\n",
    "\n",
    "    if x > n:\n",
    "        return \n",
    "    \n",
    "    print_n(x + 1, n)\n",
    "    print(x)\n",
    "\n",
    "\n",
    "print_n(0,3)\n",
    "\n"
   ]
  },
  {
   "cell_type": "code",
   "execution_count": 6,
   "metadata": {},
   "outputs": [
    {
     "data": {
      "text/plain": [
       "10.0"
      ]
     },
     "execution_count": 6,
     "metadata": {},
     "output_type": "execute_result"
    }
   ],
   "source": [
    "### sum of first n numbers \n",
    "n = 4 \n",
    "n * (n + 1) / 2"
   ]
  },
  {
   "cell_type": "code",
   "execution_count": 11,
   "metadata": {},
   "outputs": [
    {
     "data": {
      "text/plain": [
       "(6, 10)"
      ]
     },
     "execution_count": 11,
     "metadata": {},
     "output_type": "execute_result"
    }
   ],
   "source": [
    "def sum_n_nums(n):\n",
    "\n",
    "    if n == 1:\n",
    "        return 1\n",
    "    return n + sum_n_nums(n - 1)\n",
    "\n",
    "sum_n_nums(3), sum_n_nums(4),"
   ]
  },
  {
   "cell_type": "code",
   "execution_count": 15,
   "metadata": {},
   "outputs": [
    {
     "data": {
      "text/plain": [
       "(6, 120, 2)"
      ]
     },
     "execution_count": 15,
     "metadata": {},
     "output_type": "execute_result"
    }
   ],
   "source": [
    "### factorial of number \n",
    "### n = 3 , 3 * 2 * 1\n",
    "\n",
    "def factorial(n):\n",
    "\n",
    "    if n == 1 or n == 0:\n",
    "        return 1 \n",
    "    \n",
    "    return n * factorial(n - 1)\n",
    "\n",
    "factorial(3), factorial(5), factorial(2)\n"
   ]
  },
  {
   "cell_type": "code",
   "execution_count": 16,
   "metadata": {},
   "outputs": [
    {
     "data": {
      "text/plain": [
       "(6, 120, 2)"
      ]
     },
     "execution_count": 16,
     "metadata": {},
     "output_type": "execute_result"
    }
   ],
   "source": [
    "def factorial(i, n):\n",
    "\n",
    "    if n == 1 or n == 0:\n",
    "        return i\n",
    "    i = i * n\n",
    "    return factorial(i, n  - 1)\n",
    "\n",
    "factorial(1, 3), factorial(1, 5), factorial(1, 2)"
   ]
  },
  {
   "cell_type": "code",
   "execution_count": 17,
   "metadata": {},
   "outputs": [
    {
     "data": {
      "text/plain": [
       "(1, 1, 21)"
      ]
     },
     "execution_count": 17,
     "metadata": {},
     "output_type": "execute_result"
    }
   ],
   "source": [
    "def fibonacci(n):\n",
    "    if n <= 2:\n",
    "        return 1\n",
    "    return fibonacci(n - 1) + fibonacci(n - 2)\n",
    "\n",
    "fibonacci(1), fibonacci(2), fibonacci(8)"
   ]
  },
  {
   "cell_type": "code",
   "execution_count": 30,
   "metadata": {},
   "outputs": [
    {
     "data": {
      "text/plain": [
       "([3, 2, 1], [1])"
      ]
     },
     "execution_count": 30,
     "metadata": {},
     "output_type": "execute_result"
    }
   ],
   "source": [
    "### reverse an array \n",
    "### array a = [1,2,3] ans = [3,2,1]\n",
    "\n",
    "\n",
    "def reverse_array(arr):\n",
    "\n",
    "    if arr == []:\n",
    "        return []\n",
    "\n",
    "    if len(arr) == 1:\n",
    "        return [arr[0]]\n",
    "    \n",
    "    x = arr.pop(0)\n",
    "\n",
    "    return reverse_array(arr) + [x]\n",
    "\n",
    "reverse_array(arr = [1,2,3]), reverse_array(arr = [1])"
   ]
  },
  {
   "cell_type": "code",
   "execution_count": 33,
   "metadata": {},
   "outputs": [
    {
     "data": {
      "text/plain": [
       "([3, 2, 1], [1], [6, 5, 4, 3, 2, 1])"
      ]
     },
     "execution_count": 33,
     "metadata": {},
     "output_type": "execute_result"
    }
   ],
   "source": [
    "def reverse_array(arr):\n",
    "\n",
    "    # print(f'array : {arr}')\n",
    "\n",
    "    def worker(i, n):\n",
    "\n",
    "        if i == n // 2:\n",
    "            return i if n % 2 == 0 else i - 1\n",
    "\n",
    "        idx = worker(i + 1, n)\n",
    "        tmp = arr[idx]\n",
    "        arr[idx] = arr[n - idx - 1]\n",
    "        arr[n - idx - 1] = tmp\n",
    "\n",
    "        return i - 1\n",
    "\n",
    "    worker(i = 0, n = len(arr))\n",
    "\n",
    "    # print(f'reserved array : {arr}')\n",
    "    return arr\n",
    "\n",
    "reverse_array(arr = [1,2,3]), reverse_array(arr = [1]), reverse_array(arr = [1,2,3,4,5,6])"
   ]
  },
  {
   "cell_type": "code",
   "execution_count": 36,
   "metadata": {},
   "outputs": [
    {
     "data": {
      "text/plain": [
       "([3, 2, 1], [1], [6, 5, 3, 4, 2, 1])"
      ]
     },
     "execution_count": 36,
     "metadata": {},
     "output_type": "execute_result"
    }
   ],
   "source": [
    "### method 2  two pointer method.\n",
    "\n",
    "def reverse_array(arr):\n",
    "\n",
    "    def worker(start, end):\n",
    "\n",
    "        if start > end: \n",
    "            return\n",
    "\n",
    "        tmp = arr[start]\n",
    "        arr[start] = arr[end - 1]\n",
    "        arr[end - 1] = tmp\n",
    "\n",
    "        worker(start + 1, end - 1)\n",
    "\n",
    "    worker(start = 0, end = len(arr))\n",
    "\n",
    "    return arr\n",
    "\n",
    "reverse_array(arr = [1,2,3]), reverse_array(arr = [1]), reverse_array(arr = [1,2,3,4,5,6])"
   ]
  },
  {
   "cell_type": "code",
   "execution_count": 38,
   "metadata": {},
   "outputs": [
    {
     "data": {
      "text/plain": [
       "(True, True, False)"
      ]
     },
     "execution_count": 38,
     "metadata": {},
     "output_type": "execute_result"
    }
   ],
   "source": [
    "# Check if the given String is Palindrome or not\n",
    "## string : ABCDCBA, \n",
    "### \n",
    "\n",
    "\n",
    "def is_palindrome(x):\n",
    "\n",
    "    '''\n",
    "    ABBA\n",
    "    0 3\n",
    "    1 2\n",
    "    2 1 return True\n",
    "    \n",
    "    ABCBA\n",
    "    \n",
    "    0 4\n",
    "    1 3\n",
    "    2 2\n",
    "    3 1 \n",
    "    '''\n",
    "\n",
    "    def worker(start, end):\n",
    "\n",
    "        if start > end: \n",
    "            return True\n",
    "\n",
    "        if x[start] != x[end - 1]:\n",
    "            return  False \n",
    "        \n",
    "        return  worker(start + 1, end - 1)\n",
    "        \n",
    "    return worker(start = 0, end = len(x))\n",
    "\n",
    "\n",
    "is_palindrome('ABBA'), is_palindrome('ABBCBBA'), is_palindrome('TAKE U FORWARD')"
   ]
  },
  {
   "cell_type": "code",
   "execution_count": 23,
   "metadata": {},
   "outputs": [
    {
     "data": {
      "text/plain": [
       "[1, 2, 3, 4, 5]"
      ]
     },
     "execution_count": 23,
     "metadata": {},
     "output_type": "execute_result"
    }
   ],
   "source": [
    "### merge sort \n",
    "\n",
    "def merge_sort(arr):\n",
    "\n",
    "    n = len(arr)\n",
    "\n",
    "    def sort_arr(right, left):\n",
    "\n",
    "        tmp = []\n",
    "        i = 0 \n",
    "        j = 0\n",
    "        r_n = len(right)\n",
    "        l_n = len(left)\n",
    "\n",
    "        while i < r_n and j < l_n:\n",
    "\n",
    "            if right[i] < left[j]:\n",
    "                tmp.append(right[i])\n",
    "                i += 1\n",
    "            else:\n",
    "                tmp.append(left[j])\n",
    "                j += 1\n",
    "\n",
    "        ### add remaining right\n",
    "        while i < r_n:\n",
    "            tmp.append(right[i])\n",
    "            i += 1\n",
    "        \n",
    "        ### add remaining left \n",
    "        while j < l_n:\n",
    "            tmp.append(left[j])\n",
    "            j += 1\n",
    "\n",
    "        return tmp\n",
    "\n",
    "    def worker(arr):\n",
    "\n",
    "        if len(arr) == 1:\n",
    "            return arr\n",
    "\n",
    "        mid = len(arr) // 2\n",
    "\n",
    "        right = worker(arr[0:mid])\n",
    "        left = worker(arr[mid:n])\n",
    "\n",
    "        return sort_arr(right, left,)\n",
    "\n",
    "    return worker(arr)\n",
    "\n",
    "merge_sort(arr = [5,4,3,2,1])"
   ]
  },
  {
   "cell_type": "code",
   "execution_count": 50,
   "metadata": {},
   "outputs": [
    {
     "data": {
      "text/plain": [
       "[1, 2, 3, 3, 4]"
      ]
     },
     "execution_count": 50,
     "metadata": {},
     "output_type": "execute_result"
    }
   ],
   "source": [
    "merge_sort(arr = [1,3,2,3,4])"
   ]
  },
  {
   "cell_type": "code",
   "execution_count": 51,
   "metadata": {},
   "outputs": [
    {
     "data": {
      "text/plain": [
       "[-4, 1, 2, 3, 3]"
      ]
     },
     "execution_count": 51,
     "metadata": {},
     "output_type": "execute_result"
    }
   ],
   "source": [
    "merge_sort(arr = [1,3,2,3,-4])"
   ]
  },
  {
   "cell_type": "code",
   "execution_count": 33,
   "metadata": {},
   "outputs": [
    {
     "name": "stdout",
     "output_type": "stream",
     "text": [
      "[1, 2, 3, 4, 5]\n",
      "[-3, 1, 2, 4, 5]\n"
     ]
    },
    {
     "data": {
      "text/plain": [
       "(None, None)"
      ]
     },
     "execution_count": 33,
     "metadata": {},
     "output_type": "execute_result"
    }
   ],
   "source": [
    "### merge sort \n",
    "\n",
    "def merge_sort(arr):\n",
    "\n",
    "    n = len(arr)\n",
    "\n",
    "    def sort_arr(arr, l, mid, r):\n",
    "\n",
    "        tmp = [0 for i in range(10000)]\n",
    "        i = l\n",
    "        j = mid + 1\n",
    "        r_n = mid\n",
    "        l_n = r\n",
    "        f = l\n",
    "\n",
    "        while i <= r_n and j <= l_n:\n",
    "\n",
    "            if arr[i] < arr[j]:\n",
    "                tmp[f] = arr[i]\n",
    "                i += 1\n",
    "            else:\n",
    "                tmp[f] = arr[j]\n",
    "                j += 1\n",
    "            \n",
    "            f += 1\n",
    "\n",
    "        ### add remaining right\n",
    "        while i <= r_n:\n",
    "            tmp[f] = arr[i]\n",
    "            i += 1\n",
    "            f += 1\n",
    "        \n",
    "        ### add remaining left \n",
    "        while j <= l_n:\n",
    "            tmp[f] = arr[j]\n",
    "            j += 1\n",
    "            f += 1\n",
    "\n",
    "        for i in range(l, r + 1):\n",
    "            arr[i] = tmp[i]\n",
    "\n",
    "    def split(arr, l ,r):\n",
    "        # print(l, r)\n",
    "        if l < r:\n",
    "            mid = (l + r) // 2\n",
    "\n",
    "            split(arr, l, mid)\n",
    "            split(arr, mid + 1, r) ### why mid +1??\n",
    "            sort_arr(arr, l, mid, r)\n",
    "\n",
    "    split(arr, 0, len(arr) - 1)\n",
    "\n",
    "    print(arr)\n",
    "\n",
    "merge_sort(arr = [5,4,3,2,1]), merge_sort(arr = [5,4,-3,2,1])"
   ]
  },
  {
   "cell_type": "code",
   "execution_count": 34,
   "metadata": {},
   "outputs": [
    {
     "data": {
      "text/plain": [
       "[-3, 1, 2, 4, 5]"
      ]
     },
     "execution_count": 34,
     "metadata": {},
     "output_type": "execute_result"
    }
   ],
   "source": [
    "### bubble sort  this might be the incorrect here I had assumed that sorting will be done from the fist element.\n",
    "def bubble_sort(arr):\n",
    "\n",
    "    # 5 4 3 2 1\n",
    "\n",
    "    # 4 5 3 2 1\n",
    "    # 3 5 4 2 1\n",
    "    # 2 5 4 3 1\n",
    "    # 1 5 4 3 2\n",
    "\n",
    "    # 1 4 5 3 2\n",
    "    # 1 3 5 4 2\n",
    "    # 1 2 5 4 3\n",
    "    \n",
    "    # 1 2 4 5 3\n",
    "    # 1 2 3 5 4\n",
    "\n",
    "    # 1 2 3 4 5 sorted\n",
    "    '''iteratively'''\n",
    "\n",
    "    n = len(arr)\n",
    "\n",
    "    for i in range(0, n):\n",
    "        for j in range(i + 1, n):\n",
    "            if arr[i] > arr[j]:\n",
    "                tmp = arr[j]\n",
    "                arr[j] = arr[i]\n",
    "                arr[i] = tmp\n",
    "\n",
    "    return arr\n",
    "\n",
    "bubble_sort(arr = [5,4,-3,2,1])"
   ]
  },
  {
   "cell_type": "code",
   "execution_count": 38,
   "metadata": {},
   "outputs": [
    {
     "data": {
      "text/plain": [
       "[-1222, -1, 0, 1, 1, 2, 3, 4]"
      ]
     },
     "execution_count": 38,
     "metadata": {},
     "output_type": "execute_result"
    }
   ],
   "source": [
    "### Bubble Sort: Sort Elements from the end fist \n",
    "def bubble_sort(arr):\n",
    "    \n",
    "    for i in range(len(arr)):\n",
    "        for j in range(len(arr) - i - 1): \n",
    "\n",
    "            if arr[j] > arr[j + 1]:\n",
    "                tmp = arr[j+1]\n",
    "                arr[j+1] = arr[j]\n",
    "                arr[j] = tmp \n",
    "    \n",
    "    return arr\n",
    "\n",
    "\n",
    "bubble_sort(arr = [3,4,1,2,1,-0,-1,-1222])\n",
    "\n"
   ]
  },
  {
   "cell_type": "code",
   "execution_count": 39,
   "metadata": {},
   "outputs": [
    {
     "data": {
      "text/plain": [
       "[-1222, -1, 0, 1, 1, 2, 3, 4]"
      ]
     },
     "execution_count": 39,
     "metadata": {},
     "output_type": "execute_result"
    }
   ],
   "source": [
    "def bubble_sort(arr):\n",
    "    \n",
    "    for i in range(len(arr)):\n",
    "        for j in range(len(arr) - i - 1): \n",
    "\n",
    "            if arr[j] > arr[j + 1]:\n",
    "                tmp = arr[j+1]\n",
    "                arr[j+1] = arr[j]\n",
    "                arr[j] = tmp \n",
    "    \n",
    "    return arr\n",
    "    \n",
    "bubble_sort(arr = [3,4,1,2,1,-0,-1,-1222])"
   ]
  },
  {
   "cell_type": "code",
   "execution_count": 42,
   "metadata": {},
   "outputs": [
    {
     "name": "stdout",
     "output_type": "stream",
     "text": [
      "[-1222, -1, 0, 1, 1, 2, 3, 4]\n"
     ]
    }
   ],
   "source": [
    "def bubble_sort(arr):\n",
    "\n",
    "    n = len(arr)\n",
    "\n",
    "    def worker(i,j):\n",
    "\n",
    "        if i == n-1:\n",
    "            return \n",
    "        if j == n - i - 1:\n",
    "            return \n",
    "        \n",
    "        if arr[j] > arr[j+1]:\n",
    "            tmp = arr[j]\n",
    "            arr[j] = arr[j+1]\n",
    "            arr[j+1] = tmp\n",
    "        \n",
    "        worker(i, j+1)\n",
    "        worker(i + 1, j = 0)\n",
    "\n",
    "    worker(0,0)\n",
    "    print(arr)\n",
    "\n",
    "\n",
    "\n",
    "    \n",
    "bubble_sort(arr = [3,4,1,2,1,-0,-1,-1222])"
   ]
  },
  {
   "cell_type": "code",
   "execution_count": 44,
   "metadata": {},
   "outputs": [
    {
     "name": "stdout",
     "output_type": "stream",
     "text": [
      "[-3, -2, -1, 1, 5, 6, 7, 8, 9, 10]\n"
     ]
    }
   ],
   "source": [
    "bubble_sort(arr = [5,6,7,8,9,10,1,-1,-2,-3])"
   ]
  },
  {
   "cell_type": "code",
   "execution_count": 46,
   "metadata": {},
   "outputs": [],
   "source": [
    "# bubble_sort(arr = list(range(70)))"
   ]
  },
  {
   "cell_type": "code",
   "execution_count": 47,
   "metadata": {},
   "outputs": [
    {
     "data": {
      "text/plain": [
       "[1, 2, 3, 4, 5]"
      ]
     },
     "execution_count": 47,
     "metadata": {},
     "output_type": "execute_result"
    }
   ],
   "source": [
    "#### selection sort \n",
    "''' \n",
    "sort from the fist element \n",
    "\n",
    "1. assume the fist element is sorted. i = 0\n",
    "2. get the min of j = 1 .. n-1\n",
    "3. if the current min < arr[i] then swap\n",
    "'''\n",
    "\n",
    "def selection_sort(arr):\n",
    "\n",
    "    for i in range(len(arr)):\n",
    "\n",
    "        min = i \n",
    "\n",
    "        for j in range(i+1, len(arr)):\n",
    "\n",
    "            if arr[j] < arr[min]:\n",
    "                min = j\n",
    "\n",
    "        if min != i:\n",
    "            tmp = arr[i]\n",
    "            arr[i] = arr[min]\n",
    "            arr[min] = tmp\n",
    "\n",
    "    return arr \n",
    "\n",
    "\n",
    "\n",
    "selection_sort(arr = [5,4,3,2,1])"
   ]
  },
  {
   "cell_type": "code",
   "execution_count": 48,
   "metadata": {},
   "outputs": [
    {
     "data": {
      "text/plain": [
       "[-3, -2, -1, 1, 5, 6, 7, 8, 9, 10]"
      ]
     },
     "execution_count": 48,
     "metadata": {},
     "output_type": "execute_result"
    }
   ],
   "source": [
    "selection_sort(arr = [5,6,7,8,9,10,1,-1,-2,-3])"
   ]
  },
  {
   "cell_type": "code",
   "execution_count": 56,
   "metadata": {},
   "outputs": [
    {
     "data": {
      "text/plain": [
       "57"
      ]
     },
     "execution_count": 56,
     "metadata": {},
     "output_type": "execute_result"
    }
   ],
   "source": [
    "ord('9')"
   ]
  },
  {
   "cell_type": "code",
   "execution_count": null,
   "metadata": {},
   "outputs": [],
   "source": [
    "# Implement atoi\n",
    "#User function template for Python\n",
    "\n",
    "class Solution:\n",
    "    # your task is to complete this function\n",
    "    # function should return an integer\n",
    "    def atoi(self,string):\n",
    "        # Code here\n",
    "        if string[0] == '-':\n",
    "            string = string[1:]\n",
    "            neg = True\n",
    "        else:\n",
    "            neg = False\n",
    "        \n",
    "        def worker(i, ans):\n",
    "            \n",
    "            if i == len(string): return ans\n",
    "            \n",
    "            if ord(string[i]) < 48 or ord(string[i]) > 57: return -1 \n",
    "            \n",
    "            ans = ans * 10 + ord(string[i]) - 48\n",
    "            \n",
    "            return worker(i+1, ans)\n",
    "        \n",
    "        ans =  worker(0, 0)\n",
    "        \n",
    "        if neg and ans >= 0:\n",
    "            return -ans\n",
    "        \n",
    "        return ans\n",
    "            \n",
    "\n",
    "#{ \n",
    " # Driver Code Starts\n",
    "#Initial template for Python\n",
    "\n",
    "if __name__=='__main__':\n",
    "    t=int(input())\n",
    "    for i in range(t):\n",
    "        string = input().strip();\n",
    "        ob=Solution()\n",
    "        print(ob.atoi(string))\n",
    "# } Driver Code Ends\n"
   ]
  },
  {
   "cell_type": "code",
   "execution_count": null,
   "metadata": {},
   "outputs": [],
   "source": [
    "# Pow(x,n)\n",
    "## pow(2,3) 2 * 2 * 2\n",
    "class Solution:\n",
    "    #Complete this function\n",
    "    def power(self,N,R):\n",
    "        #Your code here\n",
    "    \n",
    "        def worker(n, p):\n",
    " \n",
    "            if p == 0:\n",
    "                return 1\n",
    "            \n",
    "            return n * worker(n, p - 1)\n",
    "        \n",
    "        ## this support negative numbers\n",
    "        if R < 0:\n",
    "            return 1 / worker(N, R * -1) % (10**9 + 7)\n",
    "\n",
    "        return worker(N, R) % (10**9 + 7)"
   ]
  },
  {
   "cell_type": "code",
   "execution_count": 65,
   "metadata": {},
   "outputs": [
    {
     "data": {
      "text/plain": [
       "True"
      ]
     },
     "execution_count": 65,
     "metadata": {},
     "output_type": "execute_result"
    }
   ],
   "source": [
    "### count good numbers \n",
    "\n",
    "def is_good_num(n):\n",
    "    \n",
    "    def worker(n, prev):\n",
    "    \n",
    "        if n <= 0: return True \n",
    "        \n",
    "        curr = n % 10\n",
    "        \n",
    "        if prev > curr: return False \n",
    "        if prev == -1: prev = 0\n",
    "        return worker(n // 10, curr + prev)\n",
    "\n",
    "    return worker(n=n, prev=-1)\n",
    "\n",
    "is_good_num(n = 9620)"
   ]
  },
  {
   "cell_type": "code",
   "execution_count": 62,
   "metadata": {},
   "outputs": [],
   "source": [
    "# ls = [210, 310, 320, 510, 520, 521, 530, 531, 610, 620, 621, 630, 631, 632, 650, 210, 310, 320, 410, 420, 421, 430]\n",
    "# for i in ls:\n",
    "#     print(is_good_num(i))"
   ]
  },
  {
   "cell_type": "code",
   "execution_count": null,
   "metadata": {},
   "outputs": [],
   "source": [
    "# ##reverse a stack\n",
    "# //{ Driver Code Starts\n",
    "# //Initial Template for Java\n",
    "\n",
    "# import java.util.*;\n",
    "# import java.io.*;\n",
    "# import java.lang.*;\n",
    "\n",
    "# class GFG\n",
    "# {\n",
    "#     public static void main(String args[])throws IOException\n",
    "#     {\n",
    "#         BufferedReader br = new BufferedReader(new InputStreamReader(System.in)); \n",
    "#         PrintWriter out=new PrintWriter(System.out);\n",
    "        \n",
    "#         //taking testcases\n",
    "#         int t = Integer.parseInt(br.readLine()); \n",
    "#     \tfor(int i=0;i<t;i++)\n",
    "#     \t{\n",
    "#             String str=br.readLine();\n",
    "    \t\t\n",
    "#     \t\t//input n and d\n",
    "#     \t    int n=Integer.parseInt(str);\n",
    "#     \t\tStack<Integer> stack=new Stack<>();\n",
    "#     \t\tString str1=br.readLine();\n",
    "#     \t\tString[] starr1=str1.split(\" \");\n",
    "#     \t\t//inserting elements in the array\n",
    "#     \t\tfor(int j=0;j<n;j++)\n",
    "#     \t\t{\n",
    "#     \t\t    stack.push(Integer.parseInt(starr1[j]));\n",
    "#     \t\t}\n",
    "#     \t\t//calling reverse() function\n",
    "#             Solution.reverse(stack);\n",
    "#             for(int j:stack){\n",
    "#                 out.print(j+\" \");\n",
    "#             }\n",
    "#             out.println();\n",
    "#          }\n",
    "#          out.close();\n",
    "#     }\n",
    "# }\n",
    "# // } Driver Code Ends\n",
    "\n",
    "\n",
    "# //User function Template for Java\n",
    "\n",
    "# class Solution\n",
    "# {   \n",
    "#     static void insertAtBottom(Stack<Integer> s, int curr_val)\n",
    "#     {\n",
    "#         if (s.empty())\n",
    "#         {\n",
    "#             // all new values will be added at the bottom\n",
    "#             s.push(curr_val);\n",
    "#             return;\n",
    "#         }\n",
    "#         else\n",
    "#         {\n",
    "#             Integer val = (Integer) s.pop();\n",
    "#             insertAtBottom(s, curr_val);\n",
    "#             s.push(val);\n",
    "            \n",
    "#         }\n",
    "        \n",
    "#     }\n",
    "    \n",
    "#     static void reverse(Stack<Integer> s)\n",
    "#     {\n",
    "       \n",
    "#        if (s.empty())\n",
    "#        {\n",
    "#            return;\n",
    "#        }\n",
    "       \n",
    "       \n",
    "#        Integer val = (Integer) s.pop();\n",
    "       \n",
    "#        reverse(s);\n",
    "       \n",
    "       \n",
    "#         insertAtBottom(s, val);\n",
    "        \n",
    "        \n",
    "#     }\n",
    "# }"
   ]
  },
  {
   "cell_type": "code",
   "execution_count": null,
   "metadata": {},
   "outputs": [],
   "source": [
    "# //{ Driver Code Starts\n",
    "# import java.util.Scanner;\n",
    "# import java.util.Stack;\n",
    "# class SortedStack{\n",
    "# \tpublic static void main(String[] args){\n",
    "# \t\tScanner sc=new Scanner(System.in);\n",
    "# \t\tint t=sc.nextInt();\n",
    "# \t\twhile(t-->0){\n",
    "# \t\t\tStack<Integer> s=new Stack<>();\n",
    "# \t\t\tint n=sc.nextInt();\n",
    "# \t\t\twhile(n-->0)\n",
    "# \t\t\ts.push(sc.nextInt());\n",
    "# \t\t\tGfG g=new GfG();\n",
    "# \t\t\tStack<Integer> a=g.sort(s);\n",
    "# \t\t\twhile(!a.empty()){\n",
    "# \t\t\t\tSystem.out.print(a.peek()+\" \");\n",
    "# \t\t\t\ta.pop();\n",
    "# \t\t\t}\n",
    "# \t\t\tSystem.out.println();\n",
    "# \t\t}\n",
    "# \t}\n",
    "# }\n",
    "# // } Driver Code Ends\n",
    "\n",
    "\n",
    "# /*Complete the function below*/\n",
    "# class GfG{\n",
    "    \n",
    "#     static void insertAtBottom(Stack<Integer> s, int new_val)\n",
    "#     {\n",
    "#         if (s.empty())\n",
    "#         {\n",
    "#             // all new values will be added at the bottom\n",
    "#             s.push(new_val);\n",
    "#             return;\n",
    "#         }\n",
    "#         else\n",
    "#         {   \n",
    "#             // Integer curr_val = (Integer) s.pop();\n",
    "            \n",
    "#             if (s.peek() > new_val)\n",
    "#             {   \n",
    "#                 int curr_val = s.pop();\n",
    "#                 insertAtBottom(s, new_val);\n",
    "#                 s.push(curr_val);\n",
    "#             }\n",
    "#             else{\n",
    "#             s.push(new_val);\n",
    "#             }\n",
    "#             // insertAtBottom(s, new_val);\n",
    "#             // s.add(curr_val);\n",
    "            \n",
    "#         }\n",
    "        \n",
    "#     }\n",
    "    \n",
    "    \n",
    "    \n",
    "    \n",
    "    \n",
    "# \tpublic Stack<Integer> sort(Stack<Integer> s)\n",
    "# \t{\n",
    "# \t\t//add code here.\n",
    "\t\t\n",
    "# \tif (s.empty())\n",
    "#     {\n",
    "#            return s;\n",
    "#     }\n",
    "       \n",
    "       \n",
    "#        Integer val = (Integer) s.pop();\n",
    "       \n",
    "#     //   System.out.println(\"top val : \" + val);\n",
    "       \n",
    "#        sort(s);\n",
    "       \n",
    "#        insertAtBottom(s, val);\n",
    "       \n",
    "#     //   System.out.println(s.peek());\n",
    "       \n",
    "#        return s;\n",
    "# \t}\n",
    "# }"
   ]
  },
  {
   "cell_type": "code",
   "execution_count": null,
   "metadata": {},
   "outputs": [],
   "source": [
    "class Solution:\n",
    "    def climbStairs(self, n: int) -> int:\n",
    "        \n",
    "        def worker(n, dp):\n",
    "            if 0 <= n <= 1: return 1\n",
    "            \n",
    "            if dp[n] != -1: return dp[n]\n",
    "   \n",
    "            dp[n] =  worker(n - 1, dp) + worker(n - 2, dp)\n",
    "            \n",
    "            return dp[n]\n",
    "        \n",
    "        dp = [-1 for i in range(n + 1)]\n",
    "        \n",
    "        return worker(n, dp)\n",
    "\n",
    "\n",
    "# class Solution {\n",
    "    \n",
    "    \n",
    "#     public int worker(int n, int[] dp)\n",
    "#     {\n",
    "#         if (n == 1 || n == 0) return 1;\n",
    "        \n",
    "#         if (dp[n] != -1) return dp[n];\n",
    "        \n",
    "#         return dp[n] = worker(n - 1, dp) + worker(n - 2, dp);\n",
    "        \n",
    "#     }\n",
    "    \n",
    "#     public int climbStairs(int n) {\n",
    "        \n",
    "#         int[] dp = new int[n + 1];\n",
    "        \n",
    "#         // Arrays.fill(dp,-1);\n",
    "#         // return worker(n, dp);\n",
    "        \n",
    "#         dp[0] = 1;\n",
    "#         dp[1] = 1;\n",
    "        \n",
    "#         for(int i = 2; i <= n; i++)\n",
    "#         {\n",
    "#             dp[i] = dp[i - 1] + dp[i - 2];\n",
    "#         }\n",
    "        \n",
    "#         return dp[n];  \n",
    "#     }\n",
    "# }"
   ]
  },
  {
   "cell_type": "code",
   "execution_count": null,
   "metadata": {},
   "outputs": [],
   "source": [
    "# Frog Jump (DP 3)\n",
    "# Given a number of stairs and a frog, the frog wants to climb from the 0th stair to the (N-1)th stair. \n",
    "# At a time the frog can climb either one or two steps. A height[N] array is also given. \n",
    "# Whenever the frog jumps from a stair i to stair j, the energy consumed in the jump is abs(height[i]- height[j]), \n",
    "# where abs() means the absolute difference. We need to return the minimum energy that can be used by the frog to jump \n",
    "# from stair 0 to stair N-1.\n",
    "\n",
    "## recurance relation   min_energy = min(energy_jump_1, energy_jump_2)\n",
    "##                      energy_jump_1 = abs(height[n] - height[n-1])\n",
    "##                      energy_jump_2 = abs(height[n] - height[n-2])\n",
    "\n",
    "## base case here : if n == 0: return 0\n",
    "## for n == 1:  return energy_jump_1\n",
    "## for n == 2: return min(energy_jump_1, energy_jump_2)\n",
    "## for n == 3:\n",
    "    ## step 0 1 2 3\n",
    "    #  return = min(energy_jump_1, energy_jump_2) \n",
    "    #           energy_jump_2 = f(1)\n",
    "    #           energy_jump_1 = f(2)\n",
    "                #           were f(2) = min(energy_jump_1, energy_jump_2)\n",
    "                #           energy_jump_2 = f(0)\n",
    "                #           energy_jump_1 = f(1)\n",
    "    \n",
    "    ## hence the recurance relation is f(n) = min(f(n - 1) + abs(height[n] - height[n-1]),f(n - 2) + abs(height[n] - height[n-2])) \n",
    "    #     "
   ]
  },
  {
   "cell_type": "code",
   "execution_count": 16,
   "metadata": {},
   "outputs": [
    {
     "data": {
      "text/plain": [
       "20"
      ]
     },
     "execution_count": 16,
     "metadata": {},
     "output_type": "execute_result"
    }
   ],
   "source": [
    "# def frog_jump(n, height):\n",
    "\n",
    "#     if n == 0: return 0\n",
    "#     step_2 = 10000000\n",
    "#     step_1 = abs(height[n] - height[n-1]) + frog_jump(n-1, height)\n",
    "    \n",
    "#     if n > 1:\n",
    "#        step_2 = abs(height[n] - height[n-2]) + frog_jump(n-2, height)\n",
    "    \n",
    "#     return min(step_1, step_2)\n",
    "\n",
    "# n = 4 \n",
    "# height = [10,20,30,10]\n",
    "# frog_jump(n-1, height)\n",
    "\n",
    "\n",
    "\n",
    "### dynamic solution using top-down approach.\n",
    "# def frog_jump(n, height, dp):\n",
    "\n",
    "#     if n == 0: return 0\n",
    "#     if dp[n] != -1: return dp[n]\n",
    "\n",
    "#     step_2 = 10000000\n",
    "#     step_1 = abs(height[n] - height[n-1]) + frog_jump(n-1, height, dp)\n",
    "    \n",
    "#     if n > 1:\n",
    "#        step_2 = abs(height[n] - height[n-2]) + frog_jump(n-2, height, dp)\n",
    "    \n",
    "#     dp[n] =  min(step_1, step_2)\n",
    "#     return dp[n]\n",
    "\n",
    "# n = 4 \n",
    "# height = [10,20,30,10]\n",
    "# dp = [-1 for _ in range(n)]\n",
    "# frog_jump(n-1, height, dp)\n",
    "\n",
    "\n",
    "### dynamic solution using botton-up approach\n",
    "### base case is n == 0 return 0 so dp[0] = 0\n",
    "### TC : O(N)\n",
    "### SC : ~O(N)\n",
    "# def frog_jump(n, height):\n",
    "\n",
    "#     dp = [-1 for i in range(n)]\n",
    "#     dp[0] = 0\n",
    "\n",
    "#     for i in range(1, n):\n",
    "#         step_2 = 100000\n",
    "#         step_1 = abs(height[i] - height[i-1])  + dp[i-1] \n",
    "\n",
    "#         if i > 1:\n",
    "#             step_2 = abs(height[i] - height[i-2])  + dp[i-2] \n",
    "\n",
    "#         dp[i] = min(step_1, step_2)\n",
    "\n",
    "#     return dp[n-1]\n",
    "\n",
    "\n",
    "\n",
    "# n = 4 \n",
    "# height = [10,20,30,10]\n",
    "# frog_jump(n, height)\n",
    "\n",
    "\n",
    "### where SC : O(1)\n",
    "def frog_jump(n, height):\n",
    "\n",
    "    prev_1 = 0\n",
    "    prev_2 = 0\n",
    "    curr = 0\n",
    "\n",
    "    for i in range(1, n):\n",
    "        step_2 = 100000\n",
    "        step_1 = abs(height[i] - height[i-1])  + prev_1 \n",
    "\n",
    "        if i > 1:\n",
    "            step_2 = abs(height[i] - height[i-2])  + prev_2\n",
    "\n",
    "        curr = min(step_1, step_2)\n",
    "        prev_2 = prev_1 \n",
    "        prev_1 = curr\n",
    "\n",
    "    return prev_1\n",
    "\n",
    "n = 4 \n",
    "height = [10,20,30,10]\n",
    "frog_jump(n, height)\n"
   ]
  },
  {
   "cell_type": "code",
   "execution_count": 14,
   "metadata": {},
   "outputs": [
    {
     "data": {
      "text/plain": [
       "40"
      ]
     },
     "execution_count": 14,
     "metadata": {},
     "output_type": "execute_result"
    }
   ],
   "source": [
    "n = 6\n",
    "dp = [-1 for _ in range(n)]\n",
    "height = [30,10,60 , 10 , 60 , 50]\n",
    "frog_jump(n, height)"
   ]
  },
  {
   "cell_type": "code",
   "execution_count": null,
   "metadata": {},
   "outputs": [],
   "source": [
    "# Dynamic Programming: Frog Jump with k Distances (DP 4)\n",
    "# This is a follow-up question to “Frog Jump” discussed in the previous article. \n",
    "# In the previous question, the frog was allowed to jump either one or two steps at a time. \n",
    "# In this question, the frog is allowed to jump up to ‘K’ steps at a time. \n",
    "# If K=4, the frog can jump 1,2,3, or 4 steps at every index."
   ]
  },
  {
   "cell_type": "code",
   "execution_count": 37,
   "metadata": {},
   "outputs": [
    {
     "data": {
      "text/plain": [
       "40"
      ]
     },
     "execution_count": 37,
     "metadata": {},
     "output_type": "execute_result"
    }
   ],
   "source": [
    "\n",
    "#### TC : O(N * K)\n",
    "#### SC : O(N)\n",
    "# def frog_k_jump(n, height, k):\n",
    "\n",
    "#     if n == 0: return 0\n",
    "\n",
    "#     min_energy = 1000000\n",
    "\n",
    "#     for i in range(1,k + 1):\n",
    "#         ### if n < k\n",
    "#         if n >= i:\n",
    "#             # print(n,i)\n",
    "#             step_i = abs(height[n] - height[n-i]) + frog_k_jump(n-i, height, k)\n",
    "#             min_energy = min(min_energy, step_i)\n",
    "\n",
    "#     return min_energy\n",
    "\n",
    "# height = [30,10,60 , 10 , 60 , 50]\n",
    "# k=2\n",
    "# n = len(height)\n",
    "# frog_k_jump(n - 1, height, k)\n",
    "\n",
    "\n",
    "### memoization\n",
    "#### TC : O(N * K)\n",
    "#### SC : O(N) + O(N) ~ O(N)\n",
    "# def frog_k_jump(n, height, k, dp):\n",
    "\n",
    "#     if n == 0: return 0\n",
    "#     if dp[n] != -1: return dp[n]\n",
    "\n",
    "#     min_energy = 1000000\n",
    "\n",
    "#     for i in range(1,k + 1):\n",
    "#         ### if n < k\n",
    "#         if n >= i:\n",
    "#             # print(n,i)\n",
    "#             step_i = abs(height[n] - height[n-i]) + frog_k_jump(n-i, height, k, dp)\n",
    "#             min_energy = min(min_energy, step_i)\n",
    "\n",
    "#     dp[n] =  min_energy\n",
    "#     return dp[n]\n",
    "\n",
    "\n",
    "# height = [30,10,60 , 10 , 60 , 50]\n",
    "# k=2\n",
    "# n = len(height)\n",
    "# dp = [-1 for i in range(n)]\n",
    "# frog_k_jump(n - 1, height, k, dp)\n",
    "\n",
    "\n",
    "###tabulation : bottom_up\n",
    "### TC : O(N * K)\n",
    "### SC : O(N)\n",
    "def frog_k_jump(n, height, k):\n",
    "\n",
    "    dp = [0 for i in range(n)]\n",
    "    dp[0] = 0\n",
    "\n",
    "    for j in range(1,n):\n",
    "        min_energy = 1000000\n",
    "        for i in range(1,k + 1):\n",
    "            ### if n < k\n",
    "            if j >= i:\n",
    "                # print(n,i)\n",
    "                step_i = abs(height[j] - height[j-i]) + dp[j-i]\n",
    "                min_energy = min(min_energy, step_i)\n",
    "\n",
    "        dp[j] =  min_energy\n",
    "    \n",
    "    return dp[n - 1]\n",
    "\n",
    "height = [30,10,60 , 10 , 60 , 50]\n",
    "k=2\n",
    "n = len(height)\n",
    "frog_k_jump(n, height, k)"
   ]
  },
  {
   "cell_type": "code",
   "execution_count": 39,
   "metadata": {},
   "outputs": [
    {
     "data": {
      "text/plain": [
       "20"
      ]
     },
     "execution_count": 39,
     "metadata": {},
     "output_type": "execute_result"
    }
   ],
   "source": [
    "n = 4 \n",
    "k = 2\n",
    "height = [10,20,30,10]\n",
    "frog_k_jump(n, height,k)"
   ]
  },
  {
   "cell_type": "code",
   "execution_count": null,
   "metadata": {},
   "outputs": [],
   "source": [
    "#User function Template for python3\n",
    "# Max Sum without Adjacents\n",
    "class Solution:\n",
    "\t\n",
    "\tdef findMaxSum(self,arr, n):\n",
    "\t    \n",
    "# \t    def worker(n, dp):\n",
    "#     \t\t# code here\n",
    "#     \t\tif n == 0: return arr[n]\n",
    "    \t\t\n",
    "#     \t\tif n < 0: return 0\n",
    "    \t\t\n",
    "#     \t\tif dp[n] != -1: return dp[n]\n",
    "    \t\t\n",
    "#     \t\ttake = arr[n] + worker(n-2, dp)\n",
    "#     \t\tnotake = worker(n-1, dp)\n",
    "    \t\t\n",
    "#     \t\tdp[n] = max(take, notake)\n",
    "    \t\t\n",
    "#     \t\treturn dp[n]\n",
    "    \t\t\n",
    "#         dp = [-1 for _ in range(n)]\n",
    "#         return worker(n-1, dp)\n",
    "\n",
    "        #### tabulation \n",
    "        #### \n",
    "        dp = [0 for i in range(n)]\n",
    "        \n",
    "        dp[0] = arr[0]\n",
    "        \n",
    "        for i in range(1,n):\n",
    "        \n",
    "            take = arr[i]\n",
    "            \n",
    "            if i - 2 >= 0:\n",
    "                take += dp[i-2]\n",
    "            \n",
    "            notake = dp[i-1]\n",
    "            \n",
    "            dp[i] = max(take, notake) \n",
    "            \n",
    "        return dp[n - 1]\n",
    "\n",
    "\n",
    "\n",
    "#{ \n",
    " # Driver Code Starts\n",
    "#Initial Template for Python 3\n",
    "\n",
    "\n",
    "\n",
    "\n",
    "if __name__ == '__main__':\n",
    "    tc = int(input())\n",
    "    while tc > 0:\n",
    "        n = int(input())\n",
    "        arr = list(map(int, input().strip().split()))\n",
    "        ob = Solution()\n",
    "        ans = ob.findMaxSum(arr, n)\n",
    "        print(ans)\n",
    "        tc -= 1\n",
    "\n",
    "# } Driver Code Ends"
   ]
  },
  {
   "cell_type": "code",
   "execution_count": null,
   "metadata": {},
   "outputs": [],
   "source": [
    "#User function Template for python3\n",
    "# https://practice.geeksforgeeks.org/problems/stickler-theif-1587115621/1?utm_source=youtube&utm_medium=collab_striver_ytdescription&utm_campaign=stickler-theif-\n",
    "class Solution:  \n",
    "    \n",
    "    #Function to find the maximum money the thief can get.\n",
    "    def FindMaxSum(self,a, n):\n",
    "        \n",
    "        # code here\n",
    "        \n",
    "        ## Memorization : top-down\n",
    "        ## TC : O(N)\n",
    "        ## SC : O(N)\n",
    "        # def worker(n, dp):\n",
    "            \n",
    "        #     if n == 0: return a[0]\n",
    "            \n",
    "        #     if n < 0: return 0\n",
    "            \n",
    "        #     if dp[n] != -1: return dp[n]\n",
    "            \n",
    "        #     loot = a[n] + worker(n-2, dp)\n",
    "        #     dont_loot = worker(n-1, dp)\n",
    "            \n",
    "        #     dp[n] =  max(loot, dont_loot)\n",
    "            \n",
    "        #     return dp[n]\n",
    "        \n",
    "        # dp = [-1 for i in range(n)]\n",
    "        \n",
    "        # return worker(n - 1, dp)\n",
    "        \n",
    "        ## tabulation : bottom-up\n",
    "        ## TC : O(N)\n",
    "        ## SC : O(N)\n",
    "        dp = [0 for i in range(n)]\n",
    "        \n",
    "        dp[0] = a[0]\n",
    "        \n",
    "        for i in range(1, n):\n",
    "            \n",
    "            loot = a[i]\n",
    "            \n",
    "            if i - 2 >= 0:\n",
    "                loot += dp[i - 2]\n",
    "            \n",
    "            no_loot = dp[i - 1]\n",
    "            \n",
    "            dp[i] = max(loot, no_loot)\n",
    "        \n",
    "        return dp[n-1]\n",
    "            \n",
    "            \n",
    "\n",
    "\n",
    "#{ \n",
    " # Driver Code Starts\n",
    "#Initial Template for Python 3\n",
    "import atexit\n",
    "import io\n",
    "import sys\n",
    "sys.setrecursionlimit(10**6)\n",
    "# Contributed by : Nagendra Jha\n",
    "\n",
    "if __name__ == '__main__':\n",
    "    test_cases = int(input())\n",
    "    for cases in range(test_cases):\n",
    "        n = int(input())\n",
    "        a = list(map(int,input().strip().split()))\n",
    "        ob=Solution()\n",
    "        print(ob.FindMaxSum(a,n))\n",
    "# } Driver Code Ends"
   ]
  },
  {
   "cell_type": "code",
   "execution_count": null,
   "metadata": {},
   "outputs": [],
   "source": [
    "### 2d dp array \n",
    "#User function Template for python3\n",
    "\n",
    "   \n",
    "class Solution:\n",
    "    #Function to find total number of unique paths.\n",
    "    def NumberOfPaths(self,m, n):\n",
    "        #code here\n",
    "        \n",
    "        prev = [0 for i in range(n)]\n",
    "        \n",
    "        for r in range(m):\n",
    "            tmp = [0 for i in range(n)]\n",
    "            for c in range(n):\n",
    "                \n",
    "                if r == 0 and c == 0:\n",
    "                    tmp[c] = 1\n",
    "                    continue \n",
    "                \n",
    "                if r - 1 >= 0:\n",
    "                    tmp[c] += prev[c]\n",
    "                \n",
    "                if c - 1 >= 0:\n",
    "                    tmp[c] += tmp[c-1]\n",
    "                    \n",
    "            prev = tmp\n",
    "                    \n",
    "        return tmp[n - 1]\n",
    "\n",
    "\n",
    "#{ \n",
    " # Driver Code Starts\n",
    "#Initial Template for Python 3\n",
    "\n",
    "\n",
    "if __name__ == '__main__':\n",
    "    t = int(input())\n",
    "    for _ in range(t):\n",
    "        a_b = [int(x) for x in input().strip().split()]\n",
    "        a = a_b[0]\n",
    "        b = a_b[1]\n",
    "        ob = Solution()\n",
    "        print(ob.NumberOfPaths(a, b))\n",
    "\n",
    "# } Driver Code Ends\n",
    "\n",
    "\n",
    "class Solution:\n",
    "    def uniquePaths(self, m: int, n: int) -> int:\n",
    "        \n",
    "        ''' top-down\n",
    "        TC : (M*N)\n",
    "        SC : (M*N + M + N)\n",
    "        def worker(r, c, dp):\n",
    "            \n",
    "            if r == m - 1 or c == n - 1: return 1\n",
    "            if r >= m or c >= n: return 0\n",
    "            \n",
    "            if dp[r][c] != -1: return dp[r][c]\n",
    "            \n",
    "            down = worker(r+1, c, dp)\n",
    "            right = worker(r, c + 1, dp)\n",
    "            \n",
    "            dp[r][c] =  down + right \n",
    "            \n",
    "            return dp[r][c]\n",
    "        \n",
    "        dp = [[-1 for _ in range(n)] for _ in range(m)]\n",
    "        \n",
    "        return worker(0, 0, dp)\n",
    "        '''\n",
    "        \n",
    "        '''\n",
    "        #Tabulation\n",
    "        #TC : (N*M)\n",
    "        #SC : (N*M)\n",
    "        dp = [[0 for _ in range(n)] for _ in range(m)]\n",
    "        dp[0][0] = 1\n",
    "        \n",
    "        for r in range(m):\n",
    "            for c in range(n):\n",
    "                \n",
    "                if r == 0 and c == 0:\n",
    "                    continue\n",
    "                \n",
    "                if r - 1 >= 0:\n",
    "                    down = dp[r - 1][c]\n",
    "                    dp[r][c] += down\n",
    "                if c - 1 >= 0:\n",
    "                    right = dp[r][c-1]\n",
    "                    dp[r][c] += right\n",
    "                \n",
    "        return dp[m - 1][n - 1]\n",
    "        '''\n",
    "\n",
    "        ## Space optimzied \n",
    "        ## use a vector of size col \n",
    "        prev = [0 for i in range(n)]\n",
    "        \n",
    "        for r in range(m):\n",
    "            tmp = [0 for i in range(n)]\n",
    "            for c in range(n):\n",
    "                \n",
    "                if r == 0 and c == 0:\n",
    "                    tmp[c] = 1\n",
    "                    continue \n",
    "                \n",
    "                if r - 1 >= 0:\n",
    "                    tmp[c] += prev[c]\n",
    "                \n",
    "                if c - 1 >= 0:\n",
    "                    tmp[c] += tmp[c-1]\n",
    "                    \n",
    "            prev = tmp\n",
    "                    \n",
    "        return tmp[n - 1]\n",
    "        \n",
    "            "
   ]
  },
  {
   "cell_type": "code",
   "execution_count": null,
   "metadata": {},
   "outputs": [],
   "source": [
    "# https://leetcode.com/problems/unique-paths-ii/\n",
    "class Solution:\n",
    "    def uniquePathsWithObstacles(self, obstacleGrid: List[List[int]]) -> int:\n",
    "        \n",
    "        m = len(obstacleGrid)\n",
    "        n = len(obstacleGrid[0])\n",
    "        \n",
    "        # print(m, n)\n",
    "        '''\n",
    "        prev = [0 for i in range(n)]\n",
    "        \n",
    "        for r in range(m):\n",
    "            tmp = [0 for i in range(n)]\n",
    "            \n",
    "            for c in range(n):\n",
    "                \n",
    "                # print(obstacleGrid[r][c])\n",
    "                \n",
    "                if r == 0 and c == 0 and obstacleGrid[r][c] != 1:\n",
    "                    tmp[c] = 1\n",
    "                    continue \n",
    "                    \n",
    "                if obstacleGrid[r][c] == 1:\n",
    "                    # print('here')\n",
    "                    tmp[c] = 0\n",
    "                    # print(tmp)\n",
    "                    continue\n",
    "                \n",
    "                if r - 1 >= 0:\n",
    "                    tmp[c] += prev[c]\n",
    "                \n",
    "                if c - 1 >= 0:\n",
    "                    tmp[c] += tmp[c-1]\n",
    "                \n",
    "            # print(tmp)\n",
    "                \n",
    "            prev = tmp\n",
    "                    \n",
    "        return prev[n - 1]\n",
    "        \n",
    "        '''\n",
    "        \n",
    "        def worker(r,c, dp):\n",
    "            \n",
    "            if r == m - 1 and c == n - 1 and obstacleGrid[r][c] != 1:\n",
    "                return 1\n",
    "                        \n",
    "            if r >= m or c >= n or obstacleGrid[r][c] == 1: return 0\n",
    "            \n",
    "            if dp[r][c] != -1: return dp[r][c]\n",
    "            \n",
    "            down = worker(r + 1, c, dp)\n",
    "            right = worker(r, c + 1, dp)\n",
    "            \n",
    "            dp[r][c] = down + right \n",
    "            \n",
    "            return dp[r][c]\n",
    "        \n",
    "        dp = [[-1 for i in range(n)] for _ in range(m)]\n",
    "        \n",
    "        return worker(0, 0, dp)\n",
    "            \n",
    "            "
   ]
  },
  {
   "cell_type": "code",
   "execution_count": null,
   "metadata": {},
   "outputs": [],
   "source": [
    "class Solution:\n",
    "    def minPathSum(self, grid: List[List[int]]) -> int:\n",
    "    \n",
    "        m = len(grid)\n",
    "        n = len(grid[0])\n",
    "    \n",
    "        '''\n",
    "        Memorization : TC : O(N * M)\n",
    "                       SC : O(N * M) + O(N - 1) + O(M - 1)\n",
    "                       \n",
    "        def worker(r, c, dp):\n",
    "            \n",
    "            if r == m - 1 and c == n - 1:\n",
    "                # min_val = min(min_val, val + grid[r][c])\n",
    "                return grid[r][c]\n",
    "            \n",
    "            if r >= m or c >= n:\n",
    "                return 100000\n",
    "            \n",
    "            if dp[r][c] != -1: return dp[r][c]\n",
    "            \n",
    "            down = grid[r][c] + worker(r + 1, c, dp)\n",
    "            right = grid[r][c] + worker(r, c + 1, dp)\n",
    "            \n",
    "            dp[r][c] =  min(down,right)\n",
    "            \n",
    "            return dp[r][c]\n",
    "        \n",
    "        dp = [[-1 for _ in range(n)] for _ in range(m)]\n",
    "            \n",
    "        return worker(0, 0, dp)\n",
    "        '''\n",
    "        \n",
    "        #tabulation\n",
    "        ## TC : (N * M)\n",
    "        ## SC : (N * M)\n",
    "        \n",
    "        dp = [[0 for i in range(n)] for _ in range(m)]\n",
    "        \n",
    "        for r in range(m):\n",
    "            for c in range(n):\n",
    "                \n",
    "                if r == 0 and c == 0:\n",
    "                    dp[r][c] = grid[r][c]\n",
    "                    continue \n",
    "                \n",
    "                down = 100000\n",
    "                right = 100000\n",
    "                \n",
    "                if r - 1 >= 0:\n",
    "                    down = grid[r][c] + dp[r - 1][c]\n",
    "                \n",
    "                if c - 1 >= 0:\n",
    "                    right = grid[r][c] + dp[r][c - 1]\n",
    "                \n",
    "                dp[r][c] = min(down, right)\n",
    "                    \n",
    "        \n",
    "        return dp[m - 1][n - 1]"
   ]
  },
  {
   "cell_type": "code",
   "execution_count": 3,
   "metadata": {},
   "outputs": [
    {
     "data": {
      "text/plain": [
       "2"
      ]
     },
     "execution_count": 3,
     "metadata": {},
     "output_type": "execute_result"
    }
   ],
   "source": [
    "##### subset/ subsequence problems.\n",
    "# Target Sum\n",
    "# We are given an array ‘ARR’ of size ‘N’ and a number ‘Target’. \n",
    "# Our task is to build an expression from the given array where we can place a \n",
    "# ‘+’ or ‘-’ sign in front of an integer. We want to place a sign in front of every \n",
    "# integer of the array and get our required target. We need to count the number of ways \n",
    "# in which we can achieve our required target.\n",
    "\n",
    "\n",
    "def target_sum(arr, target):\n",
    "\n",
    "\n",
    "    def worker(n, target):\n",
    "\n",
    "        if n < 0:\n",
    "\n",
    "            if target == 0:\n",
    "                return 1\n",
    "\n",
    "            return 0\n",
    "\n",
    "\n",
    "        ans = worker(n - 1, target - arr[n]) + worker(n - 1, target + arr[n])\n",
    "\n",
    "        return ans \n",
    "\n",
    "    return worker(len(arr) - 1, target)\n",
    "\n",
    "\n",
    "target = 3\n",
    "arr = [1,2,3,1]\n",
    "\n",
    "target_sum(arr, target)"
   ]
  },
  {
   "cell_type": "code",
   "execution_count": 77,
   "metadata": {},
   "outputs": [
    {
     "data": {
      "text/plain": [
       "2"
      ]
     },
     "execution_count": 77,
     "metadata": {},
     "output_type": "execute_result"
    }
   ],
   "source": [
    "##dp string Longest Common Subsequence\n",
    "\n",
    "def longest_common_subsequence(s1,s2):\n",
    "\n",
    "    def worker(i1,i2):\n",
    "\n",
    "        if i1 < 0 or i2 < 0:\n",
    "            return 0\n",
    "        \n",
    "        if s1[i1] == s2[i2]:\n",
    "            return 1 + worker(i1 - 1, i2 - 1)\n",
    "        else:\n",
    "            return max(worker(i1- 1, i2), worker(i1,i2-1))\n",
    "    \n",
    "    return worker(len(s1)-1, len(s2)-1)\n",
    "\n",
    "s1= \"acd\"\n",
    "s2= \"ced\"\n",
    "\n",
    "longest_common_subsequence(s1,s2)"
   ]
  },
  {
   "cell_type": "code",
   "execution_count": 28,
   "metadata": {},
   "outputs": [
    {
     "data": {
      "text/plain": [
       "2"
      ]
     },
     "execution_count": 28,
     "metadata": {},
     "output_type": "execute_result"
    }
   ],
   "source": [
    "##dp string Longest Common Subsequence\n",
    "### using memoization\n",
    "def longest_common_substring(s1,s2):\n",
    "\n",
    "    def worker(i1,i2, dp):\n",
    "\n",
    "        if i1 < 0 or i2 < 0:\n",
    "            return 0\n",
    "        \n",
    "        if dp[i1][i2] != -1: return dp[i1][i2]\n",
    "        \n",
    "        if s1[i1] == s2[i2]:\n",
    "            dp[i1][i2] = 1 + worker(i1 - 1, i2 - 1, dp)\n",
    "        else:\n",
    "            dp[i1][i2] =  max(worker(i1- 1, i2, dp), worker(i1,i2-1,dp))\n",
    "\n",
    "        return dp[i1][i2]\n",
    "    \n",
    "    dp = [[-1 for i in range(len(s2))] for i in range(len(s1))]\n",
    "\n",
    "    return worker(len(s1)-1, len(s2)-1, dp)\n",
    "\n",
    "s1= \"acd\"\n",
    "s2= \"ced\"\n",
    "\n",
    "longest_common_substring(s1,s2)"
   ]
  },
  {
   "cell_type": "code",
   "execution_count": null,
   "metadata": {},
   "outputs": [],
   "source": []
  },
  {
   "cell_type": "code",
   "execution_count": 33,
   "metadata": {},
   "outputs": [
    {
     "data": {
      "text/plain": [
       "'abaa'"
      ]
     },
     "execution_count": 33,
     "metadata": {},
     "output_type": "execute_result"
    }
   ],
   "source": [
    "def print_longest_common_substring(s1,s2):\n",
    "\n",
    "    def worker(i1, i2, dp):\n",
    "\n",
    "        if i1 < 0 or i2 < 0:\n",
    "            return \"\"\n",
    "        \n",
    "        if dp[i1][i2] != -1: return dp[i1][i2]\n",
    "        \n",
    "        if s1[i1] == s2[i2]:\n",
    "            dp[i1][i2] =  s1[i1] + worker(i1 - 1, i2 - 1, dp)\n",
    "        else:\n",
    "            one = worker(i1- 1, i2, dp)\n",
    "            two = worker(i1,i2-1, dp)\n",
    "            if len(two) > len(one): \n",
    "                dp[i1][i2] =  two \n",
    "            else:   \n",
    "                dp[i1][i2] =  one\n",
    "        return dp[i1][i2]\n",
    "    \n",
    "    dp = [[-1 for i in range(len(s2))] for i in range(len(s1))]\n",
    "\n",
    "    return worker(len(s1)-1, len(s2)-1, dp)[::-1]\n",
    "\n",
    "s1= \"abaaa\"\n",
    "s2= \"baabaca\"\n",
    "\n",
    "print_longest_common_substring(s1,s2)\n",
    "\n",
    "# s1 = \"a\"\n",
    "# s2 = \"aaa\" \n",
    "# print_longest_common_substring(s1,s2)"
   ]
  },
  {
   "cell_type": "code",
   "execution_count": 25,
   "metadata": {},
   "outputs": [
    {
     "data": {
      "text/plain": [
       "{'aaaa', 'abaa', 'baaa'}"
      ]
     },
     "execution_count": 25,
     "metadata": {},
     "output_type": "execute_result"
    }
   ],
   "source": [
    "### all print_longest_common_substring\n",
    "s1= \"abaaa\"\n",
    "s2= \"baabaca\"\n",
    "\n",
    "# s1 = \"a\"\n",
    "# s2 = \"aaa\"\n",
    "\n",
    "max_len = min(len(s1), len(s2))\n",
    "out = set()\n",
    "\n",
    "out.add(print_longest_common_substring(s1,s2))\n",
    "\n",
    "for i in range(max_len):\n",
    "    s = s1[:i] + s1[i+1:]\n",
    "    # print(s,i)\n",
    "    if s == \"\": continue\n",
    "    res = print_longest_common_substring(s,s2)\n",
    "    out.add(res)\n",
    "out"
   ]
  },
  {
   "cell_type": "code",
   "execution_count": 35,
   "metadata": {},
   "outputs": [
    {
     "data": {
      "text/plain": [
       "['aaaa', 'aaab', 'aaba']"
      ]
     },
     "execution_count": 35,
     "metadata": {},
     "output_type": "execute_result"
    }
   ],
   "source": [
    "# https://bit.ly/3T1Va4U   \n",
    "## (not solved :(( )))\n",
    "def all_longest_common_subsequences(s1, s2):\n",
    "    # Code here\n",
    "    ### all print_longest_common_substring\n",
    "    def print_longest_common_substring(s1,s2):\n",
    "        \n",
    "        \n",
    "        def worker(i1,i2, dp):\n",
    "\n",
    "            if i1 < 0 or i2 < 0:\n",
    "                return \"\"\n",
    "            \n",
    "            if dp[i1][i2] != -1: return dp[i1][i2]\n",
    "    \n",
    "            if s1[i1] == s2[i2]:\n",
    "                dp[i1][i2] =  s1[i1] + worker(i1 - 1, i2 - 1, dp)\n",
    "            else:\n",
    "                one = worker(i1- 1, i2, dp)\n",
    "                two = worker(i1,i2-1, dp)\n",
    "                if len(two) > len(one): \n",
    "                    dp[i1][i2] =  two \n",
    "                else:   \n",
    "                    dp[i1][i2] =  one\n",
    "            \n",
    "            return dp[i1][i2]\n",
    "        \n",
    "        dp = [[-1 for i in range(len(s2))] for i in range(len(s1))]\n",
    "\n",
    "        return worker(len(s1) - 1, len(s2) - 1, dp)\n",
    "    \n",
    "    max_len = min(len(s1), len(s2))\n",
    "    out = set()\n",
    "    \n",
    "    out.add(print_longest_common_substring(s1,s2))\n",
    "\n",
    "    for i in range(max_len):\n",
    "        s = s1[:i] + s1[i+1:]\n",
    "        if s == \"\": continue\n",
    "        res = print_longest_common_substring(s,s2)\n",
    "        out.add(res)\n",
    "\n",
    "    return sorted(list(out))\n",
    "\n",
    "s1= \"abaaa\"\n",
    "s2= \"baabaca\"\n",
    "\n",
    "all_longest_common_subsequences(s1, s2)"
   ]
  },
  {
   "cell_type": "code",
   "execution_count": 44,
   "metadata": {},
   "outputs": [
    {
     "data": {
      "text/plain": [
       "4"
      ]
     },
     "execution_count": 44,
     "metadata": {},
     "output_type": "execute_result"
    }
   ],
   "source": [
    "#### longest common substring \n",
    "\n",
    "def longest_common_substring(s1, s2):\n",
    "    ans = 0\n",
    "\n",
    "    def worker(id1, id2, count):\n",
    "        nonlocal ans\n",
    "\n",
    "        if id1 > len(s1) -1 or id2 > len(s2) - 1: \n",
    "            ans = max(count, ans)\n",
    "            return\n",
    "\n",
    "\n",
    "        if s1[id1] == s2[id2]:\n",
    "            worker(id1 + 1, id2+1, count + 1)\n",
    "        else:\n",
    "            ##store the count \n",
    "            ans = max(ans, count)\n",
    "            worker(id1, id2+1, 0)\n",
    "            worker(id1+1, id2, 0)\n",
    "    \n",
    "    worker(0,0,0)\n",
    "\n",
    "    return ans \n",
    "\n",
    "\n",
    "# s1 = \"abcjklp\"\n",
    "# s2 = \"acjkp\"\n",
    "\n",
    "s1 = \"ABCDGH\"\n",
    "s2 = \"ACDGHR\"\n",
    "\n",
    "longest_common_substring(s1, s2)\n"
   ]
  },
  {
   "cell_type": "code",
   "execution_count": 76,
   "metadata": {},
   "outputs": [
    {
     "data": {
      "text/plain": [
       "4"
      ]
     },
     "execution_count": 76,
     "metadata": {},
     "output_type": "execute_result"
    }
   ],
   "source": [
    "#### longest common substring \n",
    "\n",
    "#### Solved 109 cases outof 119\n",
    "\n",
    "def longest_common_substring(s1, s2):\n",
    "    ans = 0\n",
    "\n",
    "    def worker(id1, id2, dp):\n",
    "        nonlocal ans\n",
    "\n",
    "        if id1 > len(s1) -1 or id2 > len(s2) - 1: \n",
    "            return 0\n",
    "        \n",
    "        if dp[id1][id2] != -1: return dp[id1][id2]\n",
    "\n",
    "        worker(id1, id2+1, dp)\n",
    "        worker(id1+1, id2, dp)\n",
    "\n",
    "        if s1[id1] == s2[id2]:\n",
    "            dp[id1][id2] = 1 + worker(id1 + 1, id2+1, dp)\n",
    "            ans = max(ans, dp[id1][id2])\n",
    "            return dp[id1][id2]\n",
    "        \n",
    "        # worker(id1, id2+1, dp)\n",
    "        # worker(id1+1, id2, dp)\n",
    "\n",
    "        dp[id1][id2] = 0\n",
    "        return dp[id1][id2]\n",
    "\n",
    "    dp = [[-1 for i in range(len(s2))] for j in range(len(s1))]\n",
    "\n",
    "    worker(0,0,dp)\n",
    "\n",
    "    return ans \n",
    "\n",
    "\n",
    "s1 = \"abcjkp\"\n",
    "s2 = \"acjkp\"\n",
    "\n",
    "s1 = \"adac\"\n",
    "s2 = \"adadac\"\n",
    "\n",
    "longest_common_substring(s1, s2)\n"
   ]
  },
  {
   "cell_type": "code",
   "execution_count": null,
   "metadata": {},
   "outputs": [],
   "source": [
    "def longestPalinSubseq(self, S):\n",
    "    # code here\n",
    "    \n",
    "    def worker(i1, i2, dp):\n",
    "        \n",
    "        if i1 < 0 or i2 < 0: return 0\n",
    "        \n",
    "        if dp[i1][i2] != -1: return dp[i1][i2]\n",
    "        \n",
    "        \n",
    "        if s1[i1] == s2[i2]:\n",
    "            dp[i1][i2] = 1 + worker(i1-1, i2-1, dp)\n",
    "        else:\n",
    "            dp[i1][i2] = max(worker(i1-1,i2,dp), worker(i1,i2-1,dp))\n",
    "        \n",
    "        return dp[i1][i2]\n",
    "    \n",
    "    s1 = S\n",
    "    s2 = S[::-1]\n",
    "    \n",
    "    dp = [[-1 for i in range(len(s2))] for i in range(len(s1))]\n",
    "    \n",
    "    return worker(len(s1) - 1, len(s2) - 1, dp)"
   ]
  },
  {
   "cell_type": "code",
   "execution_count": null,
   "metadata": {},
   "outputs": [],
   "source": [
    "#https://takeuforward.org/data-structure/distinct-subsequences-dp-32/\n",
    "class Solution:\n",
    "    def numDistinct(self, s: str, t: str) -> int:\n",
    "        \n",
    "        def worker(i,j, dp):\n",
    "            \n",
    "            if dp[i][j] != -1: return dp[i][j]\n",
    "            \n",
    "            if j < 0: return 1\n",
    "            \n",
    "            if i < 0: return 0\n",
    "            \n",
    "            if s[i] == t[j]:\n",
    "                dp[i][j] =  worker(i-1,j-1, dp) + worker(i-1,j, dp)\n",
    "            else:\n",
    "                dp[i][j] =  worker(i-1,j, dp)\n",
    "            \n",
    "            return dp[i][j]\n",
    "        \n",
    "        dp = [[-1 for i in range(len(t))] for i in range(len(s))]\n",
    "        \n",
    "        return worker(len(s)-1, len(t)-1, dp)"
   ]
  },
  {
   "cell_type": "markdown",
   "metadata": {},
   "source": [
    "## Combination Sum IV"
   ]
  },
  {
   "cell_type": "code",
   "execution_count": 1,
   "metadata": {},
   "outputs": [],
   "source": [
    "#### not possiable this way because this maintains order eg\n",
    "'''\n",
    "For \n",
    "    input [1, 2, 5]\n",
    "    one possiable ans is (2,2,1)\n",
    "    but using set/ supset it is not possiable to reach index 0 (for 1) after reaching index 1 (for 2)\n",
    "\n",
    "'''\n",
    "# def findWays(num, tar):\n",
    "#     # Write your code here.\n",
    "    \n",
    "#     def worker(n, tar):\n",
    "        \n",
    "#         if n < 0 or tar < 0: return 0\n",
    "    \n",
    "#         if tar == 0: return 1\n",
    "    \n",
    "#         notake = worker(n-1, tar)\n",
    "        \n",
    "#         take = 0\n",
    "        \n",
    "#         if num[n] <= tar:\n",
    "#             take = worker(n, tar - num[n])\n",
    "        \n",
    "#         return take + notake\n",
    "   \n",
    "#     return worker(len(num) - 1, tar)\n",
    "\n"
   ]
  },
  {
   "cell_type": "code",
   "execution_count": 2,
   "metadata": {},
   "outputs": [
    {
     "data": {
      "text/plain": [
       "9"
      ]
     },
     "execution_count": 2,
     "metadata": {},
     "output_type": "execute_result"
    }
   ],
   "source": [
    "## consider all possiable ways by starting from index 0 always.\n",
    "from typing import List\n",
    "\n",
    "def findWays(num: List[int], tar: int) -> int:\n",
    "    # Write your code here.\n",
    "    \n",
    "    def worker(tar):\n",
    "        \n",
    "        if tar < 0: return 0\n",
    "    \n",
    "        if tar == 0: return 1\n",
    "    \n",
    "        if dp[tar] != -1:\n",
    "            return dp[tar]\n",
    "    \n",
    "        total_ways = 0\n",
    "        for i in num:\n",
    "            if i <= tar:\n",
    "                ans = worker(tar - i)\n",
    "                total_ways += ans \n",
    "        \n",
    "        dp[tar] = total_ways\n",
    "        return total_ways\n",
    "   \n",
    "    dp = [-1 for i in range(tar + 1)]\n",
    "\n",
    "    return worker(tar)\n",
    "\n",
    "findWays(num = [1,2,5], tar = 5)"
   ]
  },
  {
   "cell_type": "code",
   "execution_count": 6,
   "metadata": {},
   "outputs": [
    {
     "data": {
      "text/plain": [
       "9"
      ]
     },
     "execution_count": 6,
     "metadata": {},
     "output_type": "execute_result"
    }
   ],
   "source": [
    "### using tabulation to solve combination sum IV \n",
    "\n",
    "def findWays(nums: List[int], tar: int):\n",
    "\n",
    "    ### initialize the dp array, need size tar + 1 size its the value m trying to reach\n",
    "    dp = [0 for i in range(tar + 1)]\n",
    "\n",
    "    ### initialize the base case \n",
    "    ### base case if tar == 0 : return 1 \n",
    "    dp[0] = 1\n",
    "\n",
    "    #### calcualte the recusrive relation \n",
    "    #### recursive relation : f(tar) = f(tar-num[i]) where i 0 -> len(num)\n",
    "\n",
    "    for i in range(1, tar + 1):\n",
    "        ans = 0\n",
    "        for n in nums:\n",
    "            if n <= i:\n",
    "                ans += dp[i - n]\n",
    "            \n",
    "        dp[i] = ans \n",
    "    \n",
    "    return dp[tar]\n",
    "\n",
    "findWays(nums = [1,2,5], tar = 5)"
   ]
  },
  {
   "cell_type": "code",
   "execution_count": 8,
   "metadata": {},
   "outputs": [
    {
     "data": {
      "text/plain": [
       "2"
      ]
     },
     "execution_count": 8,
     "metadata": {},
     "output_type": "execute_result"
    }
   ],
   "source": [
    "# Cut Into Segments\n",
    "'''\n",
    "    segment_len = 7\n",
    "    cuts = [5, 2, 2]\n",
    "\n",
    "                        7\n",
    "                \n",
    "                (7-5) = 2\n",
    "                 2-2 = 0\n",
    "\n",
    "              ans = 2\n",
    "\n",
    "recursive solutions.\n",
    "\n",
    "'''\n",
    "\n",
    "\n",
    "def cutSegments(n, x, y, z):\n",
    "    # Write your code here.\n",
    "    \n",
    "    def worker(n, x, y, z):\n",
    "        if n < 0: return -10 ** 9\n",
    "\n",
    "        if n == 0: return 0\n",
    "\n",
    "        return  max(1 + worker(n - x, x, y, z),\n",
    "                   1 + worker(n - y, x, y, z),\n",
    "                   1 + worker(n - z, x, y, z),\n",
    "                  )\n",
    "\n",
    "    ans = worker(n, x, y, z)\n",
    "        \n",
    "    if ans < 0:\n",
    "        return 0\n",
    "\n",
    "    return ans\n",
    "    \n",
    "cutSegments(7, 5, 2, 2)    "
   ]
  },
  {
   "cell_type": "code",
   "execution_count": 12,
   "metadata": {},
   "outputs": [
    {
     "data": {
      "text/plain": [
       "0"
      ]
     },
     "execution_count": 12,
     "metadata": {},
     "output_type": "execute_result"
    }
   ],
   "source": [
    "## memoization\n",
    "def cutSegments(n, x, y, z):\n",
    "    # Write your code here.\n",
    "    \n",
    "    def worker(n, x, y, z, dp):\n",
    "        if n < 0: return -10 ** 9\n",
    "\n",
    "        if n == 0: return 0\n",
    "    \n",
    "        if dp[n] != -1: return dp[n]\n",
    "\n",
    "        ans =   max(1 + worker(n - x, x, y, z, dp),\n",
    "                    1 + worker(n - y, x, y, z, dp),\n",
    "                    1 + worker(n - z, x, y, z,dp),\n",
    "                  )\n",
    "        \n",
    "        dp[n] = ans \n",
    "        \n",
    "        return dp[n]\n",
    "    \n",
    "    dp = [-1 for i in range(n + 1)]\n",
    "    \n",
    "    ans = worker(n, x, y, z, dp)\n",
    "        \n",
    "    if ans < 0:\n",
    "        return 0\n",
    "\n",
    "    return ans\n",
    "\n",
    "cutSegments(3, 5, 2, 2)    "
   ]
  },
  {
   "cell_type": "code",
   "execution_count": 29,
   "metadata": {},
   "outputs": [
    {
     "data": {
      "text/plain": [
       "2"
      ]
     },
     "execution_count": 29,
     "metadata": {},
     "output_type": "execute_result"
    }
   ],
   "source": [
    "## tabulation \n",
    "\n",
    "def cutSegments(n, x, y, z):\n",
    "\n",
    "    dp = [0 for i in range(n + 1)]\n",
    "\n",
    "    dp[0] = 0\n",
    "\n",
    "    for i in range(1, n + 1):\n",
    "\n",
    "        a1, a2, a3 = 0, 0, 0\n",
    "\n",
    "        if i - x >= 0 and dp[i - x] >= 0:\n",
    "            a1 = 1 + dp[i - x]\n",
    "        if i - y >= 0 and dp[i - y] >= 0:\n",
    "            a2 = 1 + dp[i - y]\n",
    "        if i - z >= 0 and dp[i - z] >= 0:\n",
    "            a3 = 1 + dp[i - z]\n",
    "\n",
    "        ans = max(a1, a2, a3)\n",
    "        \n",
    "        dp[i] = ans if ans != 0 else -1\n",
    "    \n",
    "    # print(dp)\n",
    "    return dp[n] if dp[n] != -1 else 0\n",
    "\n",
    "cutSegments(7, 5, 2, 2)"
   ]
  },
  {
   "cell_type": "code",
   "execution_count": 30,
   "metadata": {},
   "outputs": [
    {
     "name": "stdout",
     "output_type": "stream",
     "text": [
      "0\n",
      "0\n",
      "9\n",
      "0\n",
      "0\n",
      "0\n",
      "0\n",
      "2\n",
      "4\n",
      "1\n"
     ]
    }
   ],
   "source": [
    "test_case = [[34, 21, 31, 9,],\n",
    "            [25, 22, 10, 24,],\n",
    "            [36, 4 ,11 ,16,],\n",
    "            [41, 13, 29, 8,],\n",
    "            [47, 45, 33, 39,],\n",
    "            [20, 18, 15, 3,],\n",
    "            [50, 23, 12, 29,],\n",
    "            [40, 40, 12, 28,],\n",
    "            [40, 10, 16, 38,],\n",
    "            [22, 13, 22, 6,]]\n",
    "\n",
    "\n",
    "for i in test_case:\n",
    "    n, x, y, z = i \n",
    "    print(cutSegments(n, x, y, z))"
   ]
  },
  {
   "cell_type": "code",
   "execution_count": 31,
   "metadata": {},
   "outputs": [
    {
     "data": {
      "text/plain": [
       "1"
      ]
     },
     "execution_count": 31,
     "metadata": {},
     "output_type": "execute_result"
    }
   ],
   "source": [
    "0\n",
    "0\n",
    "9\n",
    "0\n",
    "0\n",
    "0\n",
    "0\n",
    "2\n",
    "4\n",
    "1"
   ]
  },
  {
   "cell_type": "markdown",
   "metadata": {},
   "source": [
    "## Rod Cutting Problem\n",
    "We are given a rod of size ‘N’. It can be cut into pieces. Each length of a piece has a particular price given by the price array. Our task is to find the maximum revenue that can be generated by selling the rod after cutting( if required) into pieces."
   ]
  },
  {
   "cell_type": "code",
   "execution_count": 33,
   "metadata": {},
   "outputs": [],
   "source": [
    "from sys import stdin\n",
    "import sys\n",
    "\n",
    "def cutRod(price, n):\n",
    "       \n",
    "    def worker(idx, rod_len, dp):\n",
    "        \n",
    "        if idx == 0:\n",
    "           return rod_len * price[0]\n",
    "         \n",
    "        if dp[idx][rod_len] != -1:\n",
    "            return dp[idx][rod_len]\n",
    "\n",
    "        dont_cut = worker(idx - 1, rod_len, dp)\n",
    "\n",
    "        to_cut = -10 ** 9\n",
    "        cut_by = idx + 1\n",
    "        \n",
    "        if cut_by <= rod_len:\n",
    "            to_cut = price[idx] + worker(idx, rod_len - cut_by, dp)\n",
    "         \n",
    "        dp[idx][rod_len] =  max(to_cut, dont_cut)\n",
    "        \n",
    "        return dp[idx][rod_len]\n",
    "\n",
    "    dp = [[-1 for i in range(n + 1)] for i in range(n)]\n",
    "    \n",
    "    return worker(n - 1, n, dp)"
   ]
  },
  {
   "cell_type": "code",
   "execution_count": 34,
   "metadata": {},
   "outputs": [
    {
     "data": {
      "text/plain": [
       "210"
      ]
     },
     "execution_count": 34,
     "metadata": {},
     "output_type": "execute_result"
    }
   ],
   "source": [
    "n = 5\n",
    "price = [42, 68, 35, 1, 70] \n",
    "cutRod(price, n)"
   ]
  },
  {
   "cell_type": "code",
   "execution_count": 36,
   "metadata": {},
   "outputs": [
    {
     "data": {
      "text/plain": [
       "210"
      ]
     },
     "execution_count": 36,
     "metadata": {},
     "output_type": "execute_result"
    }
   ],
   "source": [
    "def cutRod(price, n):\n",
    "       \n",
    "    def worker(rod_len):\n",
    "\n",
    "        nonlocal n\n",
    "        \n",
    "        if rod_len == 0:\n",
    "           return 0\n",
    "         \n",
    "        # if dp[idx][rod_len] != -1:\n",
    "        #     return dp[idx][rod_len]\n",
    "\n",
    "        # dont_cut = worker(idx - 1, rod_len, dp)\n",
    "        # to_cut = -10 ** 9\n",
    "        # cut_by = idx + 1\n",
    "        \n",
    "        # if cut_by <= rod_len:\n",
    "        #     to_cut = price[idx] + worker(idx, rod_len - cut_by, dp)\n",
    "        # dp[idx][rod_len] =  max(to_cut, dont_cut)\n",
    "        maxi = -10 ** 9\n",
    "        for i in range(1, n + 1):\n",
    "            \n",
    "            if i <= rod_len:\n",
    "                ans = price[i-1] + worker(rod_len-i)\n",
    "                maxi = max(maxi, ans)\n",
    "        \n",
    "        return maxi \n",
    "        # return dp[idx][rod_len]\n",
    "\n",
    "    # dp = [[-1 for i in range(n + 1)] for i in range(n)]\n",
    "    \n",
    "    return worker(n)\n",
    "\n",
    "n = 5\n",
    "price = [42, 68, 35, 1, 70] \n",
    "cutRod(price, n)\n"
   ]
  },
  {
   "cell_type": "code",
   "execution_count": 38,
   "metadata": {},
   "outputs": [
    {
     "data": {
      "text/plain": [
       "210"
      ]
     },
     "execution_count": 38,
     "metadata": {},
     "output_type": "execute_result"
    }
   ],
   "source": [
    "def cutRod(price, n):\n",
    "        \n",
    "      def worker(rod_len, dp):\n",
    "\n",
    "        nonlocal n\n",
    "        \n",
    "        if rod_len == 0:\n",
    "           return 0\n",
    "    \n",
    "         \n",
    "        if dp[rod_len] != -1:\n",
    "            return dp[rod_len]\n",
    "\n",
    "  \n",
    "        maxi = -10 ** 9\n",
    "        for i in range(1, n + 1):\n",
    "            \n",
    "            if i <= rod_len:\n",
    "                ans = price[i-1] + worker(rod_len-i, dp)\n",
    "                maxi = max(maxi, ans)\n",
    "        \n",
    "        dp[rod_len] = maxi\n",
    "        \n",
    "        return maxi \n",
    "\n",
    "      dp = [-1 for i in range(n + 1)]\n",
    "        \n",
    "      return worker(n, dp)\n",
    "\n",
    "\n",
    "\n",
    "n = 5\n",
    "price = [42, 68, 35, 1, 70] \n",
    "cutRod(price, n)\n"
   ]
  },
  {
   "cell_type": "code",
   "execution_count": null,
   "metadata": {},
   "outputs": [],
   "source": [
    "### Perfect Squares \n",
    "def MinSquares(n):\n",
    "    # Code here\n",
    "    \n",
    "    def worker(i, n, dp):\n",
    "        ## base case \n",
    "        if n == 0: return 0\n",
    "        \n",
    "        if i * i > n: return  10 ** 9\n",
    "        \n",
    "        if n < 0 :  return 10 ** 9\n",
    "        \n",
    "        if dp[i][n] != -1: return dp[i][n]\n",
    "        \n",
    "        no_take = worker(i + 1, n, dp)\n",
    "        \n",
    "        take =  0\n",
    "        \n",
    "        if i * i <= n:\n",
    "            take = 1 + worker(i, n - i * i, dp)\n",
    "        \n",
    "        dp[i][n] = min(take, no_take)\n",
    "        \n",
    "        return dp[i][n]\n",
    "        \n",
    "    dp = [[-1 for i in range(n + 1)] for i in range(n + 1)]\n",
    "        \n",
    "    return worker(1, n, dp)   "
   ]
  },
  {
   "cell_type": "code",
   "execution_count": null,
   "metadata": {},
   "outputs": [],
   "source": []
  }
 ],
 "metadata": {
  "kernelspec": {
   "display_name": "Python 3.8.10 64-bit",
   "language": "python",
   "name": "python3"
  },
  "language_info": {
   "codemirror_mode": {
    "name": "ipython",
    "version": 3
   },
   "file_extension": ".py",
   "mimetype": "text/x-python",
   "name": "python",
   "nbconvert_exporter": "python",
   "pygments_lexer": "ipython3",
   "version": "3.8.9"
  },
  "orig_nbformat": 4,
  "vscode": {
   "interpreter": {
    "hash": "31f2aee4e71d21fbe5cf8b01ff0e069b9275f58929596ceb00d14d90e3e16cd6"
   }
  }
 },
 "nbformat": 4,
 "nbformat_minor": 2
}
