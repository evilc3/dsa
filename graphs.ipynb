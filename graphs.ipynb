{
 "cells": [
  {
   "cell_type": "code",
   "execution_count": 1,
   "metadata": {},
   "outputs": [],
   "source": [
    "### graph theory \n",
    "### graph representation \n",
    "### graph traversal : dfs and bfs\n",
    "### graph cycle detection in undirected and directed.\n",
    "### topological sort. \n",
    "### Shortest Path\n",
    "    ### graph shortest path unweighted.\n",
    "    ### Disktras Problems \n",
    "    ### Belmen-ford \n",
    "    ### graph shortest path weighted , with cycle\n",
    "    \n",
    "### matrix problems.\n",
    "#### advance (need to learn this)\n",
    "### graph union find \n",
    "### graph biprate \n",
    "### mst \n",
    "\n",
    "### Terms \n",
    "### indegree \n",
    "### outdegree"
   ]
  },
  {
   "cell_type": "code",
   "execution_count": 1,
   "metadata": {},
   "outputs": [
    {
     "name": "stdout",
     "output_type": "stream",
     "text": [
      "0 -> [(1, 1), (4, 1)]\n",
      "1 -> [(2, 1)]\n",
      "2 -> [(3, 1)]\n",
      "3 -> [(1, 1), (4, 1)]\n",
      "4 -> []\n",
      "------------------------------\n",
      "0 -> [(1, 1), (4, 1)]\n",
      "1 -> [(0, 1), (2, 1), (3, 1)]\n",
      "2 -> [(1, 1), (3, 1)]\n",
      "3 -> [(2, 1), (1, 1), (4, 1)]\n",
      "4 -> [(3, 1), (0, 1)]\n"
     ]
    }
   ],
   "source": [
    "from collections import defaultdict\n",
    "class Graph:\n",
    "    def __init__(self, n_nodes = None):\n",
    "        self.adj_list = {i:[] for i in range(n_nodes)}\n",
    "    \n",
    "    def add_edge_d(self, src, dst, wt = 1):\n",
    "        self.adj_list[src].append((dst, wt))\n",
    "\n",
    "    \n",
    "    def add_edge_u(self, src, dst, wt=1):\n",
    "        self.adj_list[src].append((dst,wt))\n",
    "        self.adj_list[dst].append((src,wt))\n",
    "\n",
    "    def print(self):\n",
    "\n",
    "        for i in self.adj_list:\n",
    "            print(f'{i} -> {self.adj_list[i]}')\n",
    "\n",
    "\n",
    "if __name__ == '__main__':\n",
    "\n",
    "    graph = Graph(5)\n",
    "\n",
    "    graph.add_edge_d(0,1,1)\n",
    "    graph.add_edge_d(1,2,1)\n",
    "    graph.add_edge_d(2,3,1)\n",
    "    graph.add_edge_d(3,1,1)\n",
    "    graph.add_edge_d(3,4,1)\n",
    "    graph.add_edge_d(0,4,1)\n",
    "\n",
    "    \n",
    "    graph.print()\n",
    "\n",
    "    print('---' * 10)\n",
    "\n",
    "    graph = Graph(5)\n",
    "\n",
    "    graph.add_edge_u(0,1,1)\n",
    "    graph.add_edge_u(1,2,1)\n",
    "    graph.add_edge_u(2,3,1)\n",
    "    graph.add_edge_u(3,1,1)\n",
    "    graph.add_edge_u(3,4,1)\n",
    "    graph.add_edge_u(0,4,1)\n",
    "\n",
    "    graph.print()"
   ]
  },
  {
   "cell_type": "code",
   "execution_count": null,
   "metadata": {},
   "outputs": [],
   "source": [
    "### creating and printing \n",
    "# https://www.codingninjas.com/codestudio/problems/create-a-graph-and-print-it_1214551"
   ]
  },
  {
   "cell_type": "code",
   "execution_count": 13,
   "metadata": {},
   "outputs": [],
   "source": []
  },
  {
   "cell_type": "code",
   "execution_count": 14,
   "metadata": {},
   "outputs": [
    {
     "name": "stdout",
     "output_type": "stream",
     "text": [
      "0\n",
      "1\n",
      "2\n",
      "3\n",
      "4\n"
     ]
    }
   ],
   "source": [
    "### main bfs \n",
    "def bfs_simple(src_node,adj_list):\n",
    "\n",
    "    queue = [src_node]\n",
    "    visited = set([src_node])\n",
    "\n",
    "    while queue != []:\n",
    "\n",
    "        top_n = queue.pop(0)\n",
    "\n",
    "        print(top_n)\n",
    "\n",
    "        for i in adj_list:\n",
    "            if i not in visited:\n",
    "                visited.add(i)\n",
    "                queue.append(i)\n",
    "    \n",
    "\n",
    "\n",
    "bfs_simple(0, graph.adj_list)"
   ]
  },
  {
   "cell_type": "markdown",
   "metadata": {},
   "source": []
  },
  {
   "cell_type": "code",
   "execution_count": null,
   "metadata": {},
   "outputs": [],
   "source": [
    "### graph traversal \n",
    "### bfs \n",
    "# https://www.codingninjas.com/codestudio/problems/bfs-in-graph_973002?leftPanelTab=1\n",
    "\n",
    "def BFS(vertex, edges):\n",
    "    # Write your solution here\n",
    "    # 'vertex' is the number of vertices present in the graph\n",
    "    # 'edges' is a matrix of the set of edges between two given vertices in the graph \n",
    "    ###creating the adj list \n",
    "    adj_list = {i:[] for i in range(vertex)}\n",
    "\n",
    "    \n",
    "    for u,v in zip(edges[0], edges[1]):\n",
    "        \n",
    "        adj_list[u].append(v)\n",
    "        adj_list[v].append(u)\n",
    "        \n",
    "    for i in adj_list:\n",
    "        adj_list[i].sort()\n",
    "  \n",
    "            \n",
    "    \n",
    "    def bfs_fun(node, adj_list, visited):\n",
    "        \n",
    "        res = []\n",
    "        stack = [node]\n",
    "        visited.add(node)\n",
    "        \n",
    "        while stack != []:\n",
    "            \n",
    "            top_node = stack.pop(0)\n",
    "            res.append(top_node) \n",
    "            for ng in adj_list[top_node]:\n",
    "                if ng not in visited:\n",
    "                    visited.add(ng)\n",
    "                    stack.append(ng)\n",
    "          \n",
    "        return res, visited \n",
    "    \n",
    "    ans = []\n",
    "    visited = set()\n",
    "    for i in range(vertex):\n",
    "        \n",
    "        if i not in visited:\n",
    "#             print(i, visited)\n",
    "            res,visited = bfs_fun(i, adj_list, visited)\n",
    "            ans += res\n",
    "            \n",
    "    return ans\n",
    "    "
   ]
  },
  {
   "cell_type": "code",
   "execution_count": null,
   "metadata": {},
   "outputs": [],
   "source": [
    "# https://www.codingninjas.com/codestudio/problems/get-path-bfs_2041962?leftPanelTab=1\n",
    "def getPath(V, E, a, b, v1, v2):\n",
    "    # Write your code here.\n",
    "\n",
    "#     print(a,b)\n",
    "#     print(v1,v2)\n",
    "    \n",
    "    visited = set()\n",
    "    adj_list = {i:[] for i in range(V)}\n",
    "    \n",
    "    for u,v in zip(a, b):\n",
    "        adj_list[u].append(v)\n",
    "        adj_list[v].append(u)\n",
    "        \n",
    "#     print(adj_list)  \n",
    "    \n",
    "    def bfs(node):\n",
    "#             print('in bfs')\n",
    "            nonlocal adj_list, visited \n",
    "            \n",
    "            q = [node]\n",
    "            visited.add(node)\n",
    "            path = []\n",
    "            \n",
    "            while q != []:\n",
    "                \n",
    "                top_n = q.pop(0)\n",
    "#                 print(top_n)\n",
    "                path.append(top_n)\n",
    "                if top_n == v2:\n",
    "                    return path\n",
    "               \n",
    "                for i in adj_list[top_n]:\n",
    "                    \n",
    "                    if i not in visited:\n",
    "                        visited.add(i)\n",
    "                        q.append(i)\n",
    "            \n",
    "            return []\n",
    "        \n",
    "        \n",
    "    return bfs(v1)   \n",
    "        \n",
    "                   \n",
    "            "
   ]
  },
  {
   "cell_type": "code",
   "execution_count": 25,
   "metadata": {},
   "outputs": [
    {
     "name": "stdout",
     "output_type": "stream",
     "text": [
      "0\n",
      "1\n",
      "2\n",
      "3\n",
      "4\n"
     ]
    }
   ],
   "source": [
    "## dfs \n",
    "def dfs(src, adj_list, visited):\n",
    "\n",
    "    print(src)\n",
    "    visited.add(src)\n",
    "\n",
    "    for i in adj_list[src]:\n",
    "        if i[0] not in visited:\n",
    "            dfs(i[0], adj_list, visited)\n",
    "\n",
    "\n",
    "dfs(0, graph.adj_list, set())"
   ]
  },
  {
   "cell_type": "code",
   "execution_count": 24,
   "metadata": {},
   "outputs": [
    {
     "data": {
      "text/plain": [
       "defaultdict(list,\n",
       "            {0: [(1, 1), (4, 1)],\n",
       "             1: [(0, 1), (2, 1), (3, 1)],\n",
       "             2: [(1, 1), (3, 1)],\n",
       "             3: [(2, 1), (1, 1), (4, 1)],\n",
       "             4: [(3, 1), (0, 1)]})"
      ]
     },
     "execution_count": 24,
     "metadata": {},
     "output_type": "execute_result"
    }
   ],
   "source": [
    "graph.adj_list"
   ]
  },
  {
   "cell_type": "code",
   "execution_count": 37,
   "metadata": {},
   "outputs": [
    {
     "name": "stdout",
     "output_type": "stream",
     "text": [
      "set()\n",
      "cycle detected 1 3\n",
      "cycle detected 0 4\n",
      "cycle detected 3 1\n",
      "cycle detected 4 0\n"
     ]
    }
   ],
   "source": [
    "#### cycle detection \n",
    "\n",
    "### undireceted graph \n",
    "#### main point : \n",
    "'''\n",
    "a  -> b -> c -> a \n",
    "\n",
    "\n",
    "using dfs \n",
    "1. dfs(a, a)\n",
    "   dfs(b, a)\n",
    "   dfs(c, b)\n",
    "   dfs(a, c) :: cycle detected \n",
    "             if a in visited:\n",
    "                parent != a\n",
    "\n",
    "\n",
    "a -> b -> c -> d -> b \n",
    "\n",
    "1. dfs(a,a)\n",
    "2. dfs(b,a)\n",
    "3. dfs(c,b)\n",
    "4. dfs(d,c)\n",
    "5. dfs(b,d)\n",
    "\n",
    "\n",
    "so visited needs to store the parents as well.\n",
    "\n",
    "visited = size of nodes \n",
    "\n",
    "1. dfs(a,a)  visited[a] = a\n",
    "2. dfs(b,a)  visited[b] = b\n",
    "3. dfs(c,b)  visited[c] = b\n",
    "4. dfs(d,c)  visited[d] = c\n",
    "5. dfs(b,d)  b in visited and visited[b] != d hence cycle detected.\n",
    "   i in visited \n",
    "   0 - 1 \n",
    "   [1] = 0\n",
    "\n",
    "   1 - 0 \n",
    "\n",
    "   \n",
    "\n",
    "   visited[]\n",
    "'''\n",
    "\n",
    "def dfs(src, adj_list, visited, parent):\n",
    "\n",
    "    visited.add(src)\n",
    "\n",
    "    for i in adj_list[src]:\n",
    "        i = i[0]\n",
    "        if i not in visited:\n",
    "            dfs(i, adj_list, visited, src)\n",
    "        elif i !=  parent:\n",
    "            print('cycle detected',i ,src )\n",
    "\n",
    "\n",
    "nodes = len(graph.adj_list)\n",
    "visited = set()\n",
    "\n",
    "for i in range(nodes):\n",
    "    if i not in visited:\n",
    "        print(visited)\n",
    "        visited.add(i)\n",
    "        dfs(i, graph.adj_list, visited, i)\n",
    "\n"
   ]
  },
  {
   "cell_type": "code",
   "execution_count": 34,
   "metadata": {},
   "outputs": [
    {
     "name": "stdout",
     "output_type": "stream",
     "text": [
      "0 -> [(1, 1), (4, 1)]\n",
      "1 -> [(0, 1), (2, 1), (3, 1)]\n",
      "2 -> [(1, 1), (3, 1)]\n",
      "3 -> [(2, 1), (1, 1), (4, 1)]\n",
      "4 -> [(3, 1), (0, 1)]\n",
      "0\n",
      "1\n",
      "4\n",
      "Cycle detected : 3 -> 4\n",
      "2\n",
      "Cycle detected : 3 -> 2\n",
      "3\n",
      "Cycle detected : 2 -> 3\n",
      "Cycle detected : 4 -> 3\n",
      "Cycle detected\n"
     ]
    }
   ],
   "source": [
    "### cycle detection undirected using bfs \n",
    "# https://www.codingninjas.com/codestudio/problems/detect-cycle-in-a-directed-graph_1062626?leftPanelTab=1&utm_source=youtube&utm_medium=affiliate&utm_campaign=Lovebabbar\n",
    "\n",
    "\n",
    "def bfs(node, adj_list, visited):\n",
    "\n",
    "    q = [(node, node)]\n",
    "    visited[node] = 1\n",
    "    has_cycle = False\n",
    "\n",
    "    while q != []:\n",
    "\n",
    "        top_node, parent = q.pop(0)\n",
    "        print(top_node)\n",
    "        for i in adj_list[top_node]:\n",
    "            i = i[0]\n",
    "            if visited[i] == -1:\n",
    "                visited[i] = 1\n",
    "                q.append((i,top_node))\n",
    "            elif i != parent:\n",
    "                print(f'Cycle detected : {i} -> {top_node}')\n",
    "                # return True\n",
    "                has_cycle = True\n",
    "            # else:\n",
    "                # continue \n",
    "    \n",
    "    if has_cycle:\n",
    "        return True\n",
    "\n",
    "    return False \n",
    "\n",
    "\n",
    "graph = Graph(5)\n",
    "\n",
    "graph.add_edge_u(0,1,1)\n",
    "graph.add_edge_u(1,2,1)\n",
    "graph.add_edge_u(2,3,1)\n",
    "graph.add_edge_u(3,1,1)\n",
    "graph.add_edge_u(3,4,1)\n",
    "graph.add_edge_u(0,4,1)\n",
    "\n",
    "graph.print()\n",
    "\n",
    "\n",
    "nodes = len(graph.adj_list)\n",
    "visited = [-1 for i in range(nodes)]\n",
    "\n",
    "for i in range(nodes):\n",
    "\n",
    "    if visited[i] == -1:\n",
    "        if bfs(i, adj_list=graph.adj_list, visited=visited):\n",
    "            print('Cycle detected')\n",
    "    \n",
    "\n",
    "\n",
    "\n"
   ]
  },
  {
   "cell_type": "code",
   "execution_count": null,
   "metadata": {},
   "outputs": [],
   "source": [
    "def dfs(src, adj_list, visited):\n",
    "\n",
    "    for i in adj_list[src]:\n",
    "        i = i[0]\n",
    "        if visited[i] == -1:\n",
    "            visited[i] = src \n",
    "            dfs(i, adj_list, visited)\n",
    "        elif visited[src] != i:\n",
    "            print('cycle detected',i ,src )\n",
    "\n",
    "\n",
    "nodes = len(graph.adj_list)\n",
    "visited = [-1 for i in range(nodes)]\n",
    "\n",
    "for i in range(nodes):\n",
    "    visited[i] = i\n",
    "    dfs(i, graph.adj_list, visited)"
   ]
  },
  {
   "cell_type": "code",
   "execution_count": 26,
   "metadata": {},
   "outputs": [
    {
     "data": {
      "text/plain": [
       "defaultdict(list,\n",
       "            {0: [(1, 1), (4, 1)],\n",
       "             1: [(0, 1), (2, 1), (3, 1)],\n",
       "             2: [(1, 1), (3, 1)],\n",
       "             3: [(2, 1), (1, 1), (4, 1)],\n",
       "             4: [(3, 1), (0, 1)]})"
      ]
     },
     "execution_count": 26,
     "metadata": {},
     "output_type": "execute_result"
    }
   ],
   "source": [
    "graph.adj_list"
   ]
  },
  {
   "cell_type": "code",
   "execution_count": 1,
   "metadata": {},
   "outputs": [
    {
     "data": {
      "text/plain": [
       "{1, 2, 3}"
      ]
     },
     "execution_count": 1,
     "metadata": {},
     "output_type": "execute_result"
    }
   ],
   "source": [
    "a = set(list([1,2,3]))\n",
    "a.add(6)\n",
    "a.remove(6)\n",
    "a"
   ]
  },
  {
   "cell_type": "code",
   "execution_count": 24,
   "metadata": {},
   "outputs": [
    {
     "name": "stdout",
     "output_type": "stream",
     "text": [
      "0 -> []\n",
      "1 -> [(2, 1)]\n",
      "2 -> [(3, 1), (4, 1)]\n",
      "3 -> [(8, 1)]\n",
      "4 -> [(5, 1)]\n",
      "5 -> [(6, 1)]\n",
      "6 -> [(4, 1)]\n",
      "7 -> [(3, 1)]\n",
      "8 -> [(7, 1)]\n",
      "9\n",
      "1\n",
      "cycle between : 3 7\n",
      "contains cycle\n",
      "4\n",
      "cycle between : 4 6\n",
      "contains cycle\n"
     ]
    }
   ],
   "source": [
    "#### cycle detection in directed graphs \n",
    "#### https://www.codingninjas.com/codestudio/problems?search=cycle%20\n",
    "\n",
    "def dfs(src, adj_list, visited):\n",
    "\n",
    "    # visited.add(src)\n",
    "    visited[src] = 1\n",
    "\n",
    "    for i in adj_list[src]:\n",
    "        i = i[0]\n",
    "        if visited[i] != -1:\n",
    "            print(f'cycle between : {i} {src}')\n",
    "            return True \n",
    "        elif dfs(i, adj_list, visited):\n",
    "            return True\n",
    "    \n",
    "    #visited.remove(src)\n",
    "    visited[src] = -1\n",
    "    return False \n",
    "\n",
    "#### creating graph \n",
    "graph = Graph(9)\n",
    "graph.add_edge_d(1,2)\n",
    "graph.add_edge_d(2,3)\n",
    "graph.add_edge_d(2,4)\n",
    "graph.add_edge_d(4,5)\n",
    "graph.add_edge_d(5,6)\n",
    "graph.add_edge_d(6,4) ### cycle edge\n",
    "graph.add_edge_d(7,3) ### cycle edge\n",
    "graph.add_edge_d(3,8)\n",
    "graph.add_edge_d(8,7)\n",
    "\n",
    "graph.print()\n",
    "\n",
    "nodes = len(graph.adj_list)\n",
    "### not a set just to use pythons \"object reference\"\n",
    "visited = [-1 for i in range(nodes + 1)]\n",
    "\n",
    "print(nodes)\n",
    "\n",
    "for i in range(1, nodes + 1):\n",
    "    if i == nodes: break\n",
    "    if visited[i] == -1:\n",
    "        print(i)\n",
    "        if dfs(i, graph.adj_list, visited):\n",
    "            print(\"contains cycle\")\n",
    "\n"
   ]
  },
  {
   "cell_type": "code",
   "execution_count": 29,
   "metadata": {},
   "outputs": [
    {
     "name": "stdout",
     "output_type": "stream",
     "text": [
      "0 -> []\n",
      "1 -> [(2, 1)]\n",
      "2 -> [(3, 1), (4, 1)]\n",
      "3 -> [(8, 1)]\n",
      "4 -> [(5, 1)]\n",
      "5 -> [(6, 1)]\n",
      "6 -> [(4, 1)]\n",
      "7 -> [(3, 1)]\n",
      "8 -> [(7, 1)]\n",
      "9\n",
      "node 1\n",
      "Cycle detected 3 -> 7\n",
      "contains cycle\n",
      "node 4\n",
      "Cycle detected 4 -> 6\n",
      "contains cycle\n"
     ]
    }
   ],
   "source": [
    "## method 2 using an additional list \n",
    "\n",
    "\n",
    "#### cycle detection in directed graphs\n",
    "from itertools import cycle\n",
    "\n",
    "\n",
    "def dfs(src, adj_list, visited, cycle_det):\n",
    "\n",
    "    # visited.add(src)\n",
    "    visited[src] = 1\n",
    "    cycle_det[src] = 1\n",
    "\n",
    "    for i in adj_list[src]:\n",
    "        i = i[0]\n",
    "        if visited[i] == -1:\n",
    "            if dfs(i, adj_list, visited, cycle_det):\n",
    "                return True \n",
    "        elif cycle_det[i] != -1:\n",
    "            print(f'Cycle detected {i} -> {src}')\n",
    "            return True \n",
    "    \n",
    "    cycle_det[src] = -1\n",
    "    return False \n",
    "\n",
    "\n",
    "\n",
    "#### creating graph \n",
    "graph = Graph(9)\n",
    "graph.add_edge_d(1,2)\n",
    "graph.add_edge_d(2,3)\n",
    "graph.add_edge_d(2,4)\n",
    "graph.add_edge_d(4,5)\n",
    "graph.add_edge_d(5,6)\n",
    "graph.add_edge_d(6,4) ### cycle edge\n",
    "graph.add_edge_d(7,3) ### cycle edge\n",
    "graph.add_edge_d(3,8)\n",
    "graph.add_edge_d(8,7)\n",
    "\n",
    "graph.print()\n",
    "\n",
    "nodes = len(graph.adj_list)\n",
    "### not a set just to use pythons \"object reference\"\n",
    "visited = [-1 for i in range(nodes + 1)]\n",
    "cyc_det = [-1 for i in range(nodes + 1)]\n",
    "\n",
    "print(nodes)\n",
    "\n",
    "for i in range(1, nodes + 1):\n",
    "    if i == nodes: break\n",
    "    if visited[i] == -1:\n",
    "        print('node',i)\n",
    "        if dfs(i, graph.adj_list, visited, cyc_det):\n",
    "            print(\"contains cycle\")"
   ]
  },
  {
   "cell_type": "code",
   "execution_count": null,
   "metadata": {},
   "outputs": [],
   "source": [
    "### problems solved using cycle detection \n",
    "# https://www.geeksforgeeks.org/find-whether-it-is-possible-to-finish-all-tasks-or-not-from-given-dependencies/\n"
   ]
  },
  {
   "cell_type": "code",
   "execution_count": null,
   "metadata": {},
   "outputs": [],
   "source": [
    "### topologocial sort. \n",
    "# https://practice.geeksforgeeks.org/problems/topological-sort/1\n",
    "\n",
    "def dfs(node, adj_list, visited, top_list):\n",
    "    \n",
    "    visited.add(node)\n",
    "    \n",
    "    for i in adj_list[node]:\n",
    "        if i not in visited:\n",
    "            dfs(i, adj_list, visited, top_list)    \n",
    "    \n",
    "    top_list.append(node)"
   ]
  },
  {
   "cell_type": "code",
   "execution_count": 12,
   "metadata": {},
   "outputs": [
    {
     "name": "stdout",
     "output_type": "stream",
     "text": [
      "0 -> [(1, 1), (4, 1)]\n",
      "1 -> [(2, 1)]\n",
      "2 -> [(3, 1)]\n",
      "3 -> [(1, 1), (4, 1)]\n",
      "4 -> []\n",
      "contains cycle\n",
      "topo sort :  []\n"
     ]
    }
   ],
   "source": [
    "## topological sort using khans algorithem \n",
    "'''\n",
    "steps \n",
    "1. create an inorder list of length nodes\n",
    "2. use bfs only on nodes haveing inorder == 0 (no prequisits)\n",
    "3. get the neighbours for the node. \n",
    "'''\n",
    "\n",
    "graph = Graph(5)\n",
    "\n",
    "graph.add_edge_d(0,1,1)\n",
    "graph.add_edge_d(1,2,1)\n",
    "graph.add_edge_d(2,3,1)\n",
    "graph.add_edge_d(3,1,1)\n",
    "graph.add_edge_d(3,4,1)\n",
    "graph.add_edge_d(0,4,1)\n",
    "\n",
    "graph.print()\n",
    "\n",
    "\n",
    "def topo_sort_kahn(graph):\n",
    "\n",
    "    #### get the adjacency list \n",
    "    adj_list = graph.adj_list\n",
    "    \n",
    "    ### create an inoder list \n",
    "    inorder_list = [0 for i in range(len(adj_list))]\n",
    "\n",
    "    for node in adj_list:\n",
    "        for neighbour in adj_list[node]:\n",
    "            neighbour = neighbour[0]\n",
    "            inorder_list[neighbour] += 1\n",
    "    \n",
    "\n",
    "    q = []\n",
    "    vis = set()  \n",
    "    ans = [] \n",
    "\n",
    "    #### add the initial nodes to the queue\n",
    "    for idx, i in enumerate(inorder_list):\n",
    "        if i == 0:\n",
    "            q.append(idx)\n",
    "            vis.add(idx)\n",
    "\n",
    "\n",
    "    while q != []:\n",
    "\n",
    "        top_n = q.pop(0)\n",
    "\n",
    "        ans.append(top_n)\n",
    "\n",
    "        for i in adj_list[top_n]:\n",
    "            i = i[0]\n",
    "            inorder_list[i] -= 1\n",
    "\n",
    "            if i not in vis and inorder_list[i] == 0:\n",
    "                vis.add(i)\n",
    "                q.append(i)\n",
    "\n",
    "    \n",
    "    #### to check for cycle nodes == len(ans)\n",
    "\n",
    "    if len(adj_list) == len(ans):\n",
    "        print('no cycle')\n",
    "        # return ans\n",
    "        print('topo sort : ', ans)\n",
    "        return \n",
    "    \n",
    "    print('contains cycle')\n",
    "    # return []\n",
    "    print('topo sort : ', [])\n",
    "\n",
    "\n",
    "topo_sort_kahn(graph)"
   ]
  },
  {
   "cell_type": "code",
   "execution_count": 14,
   "metadata": {},
   "outputs": [
    {
     "name": "stdout",
     "output_type": "stream",
     "text": [
      "no cycle\n",
      "topo sort :  [0, 1, 2, 3, 4]\n"
     ]
    }
   ],
   "source": [
    "graph = Graph(5)\n",
    "\n",
    "graph.add_edge_d(0,1,1)\n",
    "graph.add_edge_d(1,2,1)\n",
    "graph.add_edge_d(2,3,1)\n",
    "graph.add_edge_d(3,4,1)\n",
    "\n",
    "topo_sort_kahn(graph)"
   ]
  },
  {
   "cell_type": "code",
   "execution_count": null,
   "metadata": {},
   "outputs": [],
   "source": [
    "### topo sort kahn implementation is used for cycle detection usong bfs in directed graphs\n",
    "# https://www.codingninjas.com/codestudio/problems/detect-cycle-in-a-directed-graph_1062626?leftPanelTab=1\n",
    "## used to solve scheduling jobs problem.\n",
    "# https://www.codingninjas.com/codestudio/problems/prerequisite-task_982936"
   ]
  },
  {
   "cell_type": "markdown",
   "metadata": {},
   "source": [
    "Minimum time taken by each job to be completed given by a Directed Acyclic Graph"
   ]
  },
  {
   "cell_type": "code",
   "execution_count": 16,
   "metadata": {},
   "outputs": [
    {
     "data": {
      "text/plain": [
       "[-1, 1, 1, 2, 2, 2, 3, 4, 5, 2, 6]"
      ]
     },
     "execution_count": 16,
     "metadata": {},
     "output_type": "execute_result"
    }
   ],
   "source": [
    "\n",
    "def time_taken(graph):\n",
    "\n",
    "    #### get the adjacency list \n",
    "    adj_list = graph.adj_list\n",
    "    \n",
    "    ### create an inoder list \n",
    "    inorder_list = [0 for i in range(len(adj_list))]\n",
    "\n",
    "    for node in adj_list:\n",
    "        for neighbour in adj_list[node]:\n",
    "            neighbour = neighbour[0]\n",
    "            inorder_list[neighbour] += 1\n",
    "    \n",
    "\n",
    "    q = []\n",
    "    vis = set()  \n",
    "    ans = [-1 for i in range(len(adj_list))]\n",
    "\n",
    "\n",
    "    #### add the initial nodes to the queue\n",
    "    for idx, i in enumerate(inorder_list):\n",
    "        if idx == 0: continue \n",
    "        if i == 0:\n",
    "            q.append(idx)\n",
    "            vis.add(idx)\n",
    "\n",
    "    time = 1\n",
    "\n",
    "    while q != []:\n",
    "\n",
    "        for i in range(len(q)):\n",
    "\n",
    "            top_n = q.pop(0)\n",
    "            # ans.append(time)\n",
    "            ans[top_n] = time\n",
    "    \n",
    "            for i in adj_list[top_n]:\n",
    "                i = i[0]\n",
    "                inorder_list[i] -= 1\n",
    "\n",
    "                if i not in vis and inorder_list[i] == 0:\n",
    "                    vis.add(i)\n",
    "                    q.append(i)\n",
    "        time += 1\n",
    "    \n",
    "    return ans \n",
    "\n",
    "\n",
    "graph = Graph(11)\n",
    "\n",
    "graph.add_edge_d(1,3,1)\n",
    "graph.add_edge_d(1,4,1)\n",
    "graph.add_edge_d(1,5,1)\n",
    "graph.add_edge_d(2,3,1)\n",
    "graph.add_edge_d(2,9,1)\n",
    "graph.add_edge_d(2,8,1)\n",
    "graph.add_edge_d(3,6,1)\n",
    "graph.add_edge_d(4,6,1)\n",
    "graph.add_edge_d(4,8,1)\n",
    "graph.add_edge_d(5,8,1)\n",
    "graph.add_edge_d(6,7,1)\n",
    "graph.add_edge_d(7,8,1)\n",
    "graph.add_edge_d(8,10,1)\n",
    "\n",
    "time_taken(graph)"
   ]
  },
  {
   "cell_type": "code",
   "execution_count": 17,
   "metadata": {},
   "outputs": [
    {
     "data": {
      "text/plain": [
       "[-1, 1, 2, 3, 3, 3, 4, 4]"
      ]
     },
     "execution_count": 17,
     "metadata": {},
     "output_type": "execute_result"
    }
   ],
   "source": [
    "graph = Graph(8)\n",
    "\n",
    "graph.add_edge_d(1,2,1)\n",
    "graph.add_edge_d(2,3,1)\n",
    "graph.add_edge_d(2,4,1)\n",
    "graph.add_edge_d(2,5,1)\n",
    "graph.add_edge_d(3,6,1)\n",
    "graph.add_edge_d(4,6,1)\n",
    "graph.add_edge_d(5,7,1)\n",
    "\n",
    "time_taken(graph)"
   ]
  },
  {
   "cell_type": "code",
   "execution_count": 46,
   "metadata": {},
   "outputs": [],
   "source": [
    "## graph shortest path unweighted.\n",
    "\n",
    "## for shortest path always use bfs \n",
    "## modified bfs that the also stores the parent of a code \n",
    "\n",
    "### undirected and directed\n",
    "\n",
    "def shortest_path(node, adj_list):\n",
    "\n",
    "    visited = set([node])\n",
    "    parents = [-1 for i in range(len(adj_list))]\n",
    "    ## stores (current_node, parent_current_node)\n",
    "    q = [node]\n",
    "\n",
    "    while q != []:\n",
    "\n",
    "        node = q.pop(0)\n",
    "\n",
    "        for i in adj_list[node]:\n",
    "            i = i[0]\n",
    "            if i not in visited:\n",
    "                visited.add(i)\n",
    "                parents[i] = node\n",
    "                q.append(i)\n",
    "\n",
    "    return parents"
   ]
  },
  {
   "cell_type": "code",
   "execution_count": 47,
   "metadata": {},
   "outputs": [
    {
     "name": "stdout",
     "output_type": "stream",
     "text": [
      "0 -> [(1, 1), (4, 1)]\n",
      "1 -> [(0, 1), (2, 1), (3, 1)]\n",
      "2 -> [(1, 1), (3, 1)]\n",
      "3 -> [(2, 1), (1, 1), (4, 1)]\n",
      "4 -> [(3, 1), (0, 1)]\n"
     ]
    }
   ],
   "source": [
    "graph.print()"
   ]
  },
  {
   "cell_type": "code",
   "execution_count": 48,
   "metadata": {},
   "outputs": [
    {
     "data": {
      "text/plain": [
       "[-1, 0, 1, 1, 0]"
      ]
     },
     "execution_count": 48,
     "metadata": {},
     "output_type": "execute_result"
    }
   ],
   "source": [
    "shortest_path(0, graph.adj_list)"
   ]
  },
  {
   "cell_type": "code",
   "execution_count": 49,
   "metadata": {},
   "outputs": [
    {
     "name": "stdout",
     "output_type": "stream",
     "text": [
      "shortest path for node 0 -> 0\n",
      "shortest path for node 1 -> 1\n",
      "shortest path for node 2 -> 2\n",
      "shortest path for node 3 -> 2\n",
      "shortest path for node 4 -> 1\n"
     ]
    }
   ],
   "source": [
    "for idx, i in enumerate(shortest_path(0, graph.adj_list)):\n",
    "    print(f'shortest path for node {idx} -> {i + 1}')"
   ]
  },
  {
   "cell_type": "code",
   "execution_count": 50,
   "metadata": {},
   "outputs": [
    {
     "name": "stdout",
     "output_type": "stream",
     "text": [
      "Shortest distance for node : 0\n",
      "\n",
      "Shortest distance for node : 1\n",
      "0->\n",
      "Shortest distance for node : 2\n",
      "1->0->\n",
      "Shortest distance for node : 3\n",
      "1->0->\n",
      "Shortest distance for node : 4\n",
      "0->\n"
     ]
    }
   ],
   "source": [
    "parents = shortest_path(0, graph.adj_list)\n",
    "\n",
    "for i in range(len(graph.adj_list)):\n",
    "\n",
    "    print(f'Shortest distance for node : {i}')\n",
    "    while True:\n",
    "\n",
    "        x = parents[i]\n",
    "        if x == -1: break\n",
    "        print(x, end = '->')\n",
    "        i = x \n",
    "\n",
    "    print()"
   ]
  }
 ],
 "metadata": {
  "kernelspec": {
   "display_name": "Python 3.8.10 64-bit",
   "language": "python",
   "name": "python3"
  },
  "language_info": {
   "codemirror_mode": {
    "name": "ipython",
    "version": 3
   },
   "file_extension": ".py",
   "mimetype": "text/x-python",
   "name": "python",
   "nbconvert_exporter": "python",
   "pygments_lexer": "ipython3",
   "version": "3.8.9"
  },
  "orig_nbformat": 4,
  "vscode": {
   "interpreter": {
    "hash": "31f2aee4e71d21fbe5cf8b01ff0e069b9275f58929596ceb00d14d90e3e16cd6"
   }
  }
 },
 "nbformat": 4,
 "nbformat_minor": 2
}
