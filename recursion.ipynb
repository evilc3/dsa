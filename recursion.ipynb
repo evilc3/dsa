{
 "cells": [
  {
   "cell_type": "markdown",
   "metadata": {},
   "source": [
    "## Recursion\n",
    "\n",
    "## Some theory\n",
    "\n",
    "\tDifferent Terms\n",
    "\t1. Base Case: Used for terminating the recursive call, most probablty the simplest case where recursion doesnt need to be applied to find the answer.\n",
    "\t2. Direct Recursion: When the recursive function calls itself. (almost all problems solved used this.)\n",
    "\t3. Indirect Recustion: When the recursive function calls another function which in turn calls the calling funcition. eg.\n",
    "\n",
    "\t\tfunction1(params1...)\n",
    "\n",
    "\t\t\t.....\n",
    "\t\t\tfunction2(param2...)\n",
    "\t\t\t.....\n",
    "\n",
    "\t\tfunction2(params2...)\n",
    "\n",
    "\t\t\t.....\n",
    "\t\t\tfunction1(param1...)\n",
    "\t\t\t.....\n",
    "\t4. Tail Recursion: When the recursive call is the last statement, this helps the compiler optimize the the program. eg.\n",
    "\n",
    "\t\t\tfunction1(param1...)\n",
    "\t\t\t\t....\n",
    "\t\t\t\t....\n",
    "\t\t\t\tfunction1(param1...)\n",
    "\n",
    "\t\t\tAs its the last statement the compiler doesnt need to keep it in memory and can de-allocate it.\n",
    "\n",
    "\n",
    "\t5. Non-tail function: eg.  last statement is n * function1(n-1)\n",
    "\t   These function can be made into tail recursion by adding an answer param.\n",
    "\n",
    "\t6. Recurrence Relation: way in which the subproblems are divided.\n",
    "\n",
    "\t7. Recursive step: It divides a big problem into small instances that are solved by the recursive function and later on recombined in the results.\n",
    "\n",
    "\t1. kunal kushwaria : https://www.youtube.com/watch?v=M2uO2nMT0Bk&list=PL9gnSGHSqcnr_DxHsP7AW9ftq0AtAyYqJ&index=23&pp=iAQB\n",
    "\t2. love babbar code : https://www.youtube.com/watch?v=_-2u4EPHD88&list=PLDzeHZWIZsTqBmRGnsCOGNDG5FY0G04Td\n",
    "\t3. striver : https://www.youtube.com/watch?v=yVdKa8dnKiE&list=PLgUwDviBIf0rGlzIn_7rsaR2FQ5e6ZOL9\n",
    "\t4. gfg: Theory : https://www.geeksforgeeks.org/introduction-to-recursion-data-structure-and-algorithm-tutorials/\n",
    "\t5. InterviewBit and other sources."
   ]
  },
  {
   "cell_type": "markdown",
   "metadata": {},
   "source": [
    "### Practice problems"
   ]
  },
  {
   "cell_type": "markdown",
   "metadata": {},
   "source": [
    "### Tower of Hanoi\n",
    "\n",
    "There are 3 disk A,B,C. There are N disk arranged in sorted order on disk A. move to disk C.\n",
    "\n",
    "When moving a disk follow the rules\n",
    "1. you can move only one disk at a time.\n",
    "2. A bigger disk cannot be placed on a smaller disk.\n",
    "\n",
    "Total Moves Required: 2 ^ N"
   ]
  },
  {
   "cell_type": "code",
   "execution_count": 24,
   "metadata": {},
   "outputs": [
    {
     "name": "stdout",
     "output_type": "stream",
     "text": [
      "Moved Disk 1 from rod A to B\n",
      "Moved Disk 2 from rod A to C\n",
      "Moved Disk 1 from rod B to C\n"
     ]
    }
   ],
   "source": [
    "'''\n",
    "Recursive solution\n",
    "\n",
    "1. Consider 3 rods, source_rod, dest_rod, and the aux_rod\n",
    "2. First move the n-1 disk from source_rod to aux_rod using the dest_rod\n",
    "3. Then move the nth disk from source_rod to dest_rod\n",
    "4. Move the n-1 disk from the aux_rod to dest_rod using the source_rod\n",
    "'''\n",
    "\n",
    "def tower_of_hanoi(disk, src_rod, aux_rod, dst_rod):\n",
    "\n",
    "    if disk == 0:\n",
    "        return\n",
    "\n",
    "    ###move n-1 rod from src_rod to aux_rod\n",
    "    tower_of_hanoi(disk-1,src_rod,dst_rod,aux_rod)\n",
    "    print(f'Moved Disk {disk} from rod {src_rod} to {dst_rod}')\n",
    "    ###move n-1 rod from aux_rod to dst_rod\n",
    "    tower_of_hanoi(disk-1,aux_rod,src_rod,dst_rod)\n",
    "\n",
    "\n",
    "\n",
    "tower_of_hanoi(disk=2, src_rod='A', aux_rod='B', dst_rod='C')\n"
   ]
  },
  {
   "cell_type": "code",
   "execution_count": 25,
   "metadata": {},
   "outputs": [
    {
     "name": "stdout",
     "output_type": "stream",
     "text": [
      "Moved Disk 1 from rod A to C\n",
      "Moved Disk 2 from rod A to B\n",
      "Moved Disk 1 from rod C to B\n",
      "Moved Disk 3 from rod A to C\n",
      "Moved Disk 1 from rod B to A\n",
      "Moved Disk 2 from rod B to C\n",
      "Moved Disk 1 from rod A to C\n"
     ]
    }
   ],
   "source": [
    "tower_of_hanoi(disk=3, src_rod='A', aux_rod='B', dst_rod='C')"
   ]
  },
  {
   "cell_type": "markdown",
   "metadata": {},
   "source": [
    "### Pow(X,N)"
   ]
  },
  {
   "cell_type": "code",
   "execution_count": 26,
   "metadata": {},
   "outputs": [
    {
     "name": "stdout",
     "output_type": "stream",
     "text": [
      "4.0\n",
      "8.0\n",
      "27.0\n",
      "19683.0\n",
      "99000001.0\n"
     ]
    }
   ],
   "source": [
    "### TC: O(N)\n",
    "### SC (AUX Space): O(N)\n",
    "def pow(x, n):\n",
    "    if n == 1:\n",
    "        return x ## x^1 = x\n",
    "    return x * pow(x, n-1) % (10e7 + 1)\n",
    "\n",
    "\n",
    "print(pow(2, 2))\n",
    "print(pow(2, 3))\n",
    "print(pow(3, 3))\n",
    "print(pow(3, 9))\n",
    "print(pow(10, 30))"
   ]
  },
  {
   "cell_type": "code",
   "execution_count": 27,
   "metadata": {},
   "outputs": [],
   "source": [
    "#### Extra "
   ]
  },
  {
   "cell_type": "code",
   "execution_count": 28,
   "metadata": {},
   "outputs": [
    {
     "name": "stdout",
     "output_type": "stream",
     "text": [
      "4.0\n",
      "8.0\n",
      "27.0\n",
      "19683.0\n",
      "99000001.0\n"
     ]
    }
   ],
   "source": [
    "### TC: O(N)\n",
    "### SC (AUX Space): O(N)\n",
    "def pow(x, n):\n",
    "    if n == 1:\n",
    "        return x ## x^1 = x\n",
    "    return x * pow(x, n-1) % (10e7 + 1)\n",
    "\n",
    "\n",
    "print(pow(2, 2))\n",
    "print(pow(2, 3))\n",
    "print(pow(3, 3))\n",
    "print(pow(3, 9))\n",
    "print(pow(10, 30))"
   ]
  },
  {
   "cell_type": "code",
   "execution_count": 31,
   "metadata": {},
   "outputs": [
    {
     "name": "stdout",
     "output_type": "stream",
     "text": [
      "4\n",
      "8\n",
      "27\n",
      "19683\n",
      "1000000000000000000000000000000\n"
     ]
    }
   ],
   "source": [
    "### https://www.geeksforgeeks.org/find-the-value-of-a-number-raised-to-its-reverse/?ref=lbp\n",
    "### Using Binary Exponentiation\n",
    "### (log(N))\n",
    "def pow_2(x, n):\n",
    "    ###also handle negative\n",
    "    ans = 1\n",
    "    is_neg = False\n",
    "    if x < 0:\n",
    "        x = x * -1\n",
    "        is_neg = True\n",
    "\n",
    "    while n > 0:\n",
    "\n",
    "        if n % 2 == 1:\n",
    "            ans = ans * x\n",
    "\n",
    "        x = x * x\n",
    "\n",
    "        n = n // 2\n",
    "\n",
    "    if is_neg:\n",
    "        return 1 / ans\n",
    "    return ans\n",
    "\n",
    "print(pow_2(2, 2))\n",
    "print(pow_2(2, 3))\n",
    "print(pow_2(3, 3))\n",
    "print(pow_2(3, 9))\n",
    "print(pow_2(10, 30))\n"
   ]
  },
  {
   "cell_type": "markdown",
   "metadata": {},
   "source": [
    "### Recursively remove all adjacent duplicates"
   ]
  },
  {
   "cell_type": "code",
   "execution_count": 33,
   "metadata": {},
   "outputs": [
    {
     "data": {
      "text/plain": [
       "('gkfor', set())"
      ]
     },
     "execution_count": 33,
     "metadata": {},
     "output_type": "execute_result"
    }
   ],
   "source": [
    "def remove_adj(s, prev_dup=set()):\n",
    "\n",
    "    if len(s) == 1:\n",
    "        return s, prev_dup\n",
    "\n",
    "    x = s[0]\n",
    "\n",
    "    ret, prev_dup = remove_adj(s[1:], prev_dup)\n",
    "\n",
    "    if ret and x == ret[0]:\n",
    "        prev_dup.add(x)\n",
    "        return ret[1:], prev_dup\n",
    "    elif x in prev_dup:\n",
    "        return ret, prev_dup\n",
    "\n",
    "    prev_dup = set()\n",
    "\n",
    "    return x + ret, prev_dup\n",
    "\n",
    "# remove_adj('azxxzy')\n",
    "remove_adj('geekforgeeg')"
   ]
  },
  {
   "cell_type": "code",
   "execution_count": null,
   "metadata": {},
   "outputs": [],
   "source": []
  },
  {
   "cell_type": "code",
   "execution_count": 34,
   "metadata": {},
   "outputs": [
    {
     "data": {
      "text/plain": [
       "('', {'a', 'c'})"
      ]
     },
     "execution_count": 34,
     "metadata": {},
     "output_type": "execute_result"
    }
   ],
   "source": [
    "remove_adj('caaabbbaacdddd')"
   ]
  },
  {
   "cell_type": "code",
   "execution_count": 35,
   "metadata": {},
   "outputs": [
    {
     "data": {
      "text/plain": [
       "('', {'a', 'b', 'c'})"
      ]
     },
     "execution_count": 35,
     "metadata": {},
     "output_type": "execute_result"
    }
   ],
   "source": [
    "remove_adj('acaaabbbacdddd')"
   ]
  },
  {
   "cell_type": "code",
   "execution_count": 36,
   "metadata": {},
   "outputs": [
    {
     "data": {
      "text/plain": [
       "('', {'a', 'b', 'c'})"
      ]
     },
     "execution_count": 36,
     "metadata": {},
     "output_type": "execute_result"
    }
   ],
   "source": [
    "remove_adj('abccbccba')"
   ]
  },
  {
   "cell_type": "code",
   "execution_count": 37,
   "metadata": {},
   "outputs": [
    {
     "data": {
      "text/plain": [
       "('gksforgk', set())"
      ]
     },
     "execution_count": 37,
     "metadata": {},
     "output_type": "execute_result"
    }
   ],
   "source": [
    "remove_adj('geeksforgeek')"
   ]
  },
  {
   "cell_type": "markdown",
   "metadata": {},
   "source": [
    "#### Lets treat the recursion in a different way\n",
    "\n",
    "Steps\n",
    "1. Now elemenate in forward pass.\n",
    "2. Base condition will be \n",
    "    1. if string == \"\"\n",
    "    2. for no duplicate was present in string.\n",
    "\n",
    "\n",
    "caaabbbaacdddd -> cc -> \"\"\n",
    "\n",
    "azxxzy -> azzy-> ay\n",
    "\n",
    "\n",
    "\n"
   ]
  },
  {
   "cell_type": "code",
   "execution_count": 60,
   "metadata": {},
   "outputs": [
    {
     "name": "stdout",
     "output_type": "stream",
     "text": [
      "ay\n",
      "gkfor\n",
      "\n",
      "acac\n",
      "\n",
      "gksforgk\n"
     ]
    }
   ],
   "source": [
    "def remove_adj_2(x):\n",
    "\n",
    "    if x == \"\": return x\n",
    "\n",
    "    out = x[0]\n",
    "    prev = x[0]\n",
    "    for i in x[1:]:\n",
    "        if prev == i:\n",
    "            if i == out[-1]:\n",
    "               out = out[:-1]\n",
    "            continue\n",
    "        prev = i\n",
    "        out += i\n",
    "    # print('out',out)\n",
    "    if out == x: return out\n",
    "\n",
    "    return remove_adj_2(out)\n",
    "\n",
    "print(remove_adj_2('azxxzy'))\n",
    "print(remove_adj_2('geekforgeeg'))\n",
    "print(remove_adj_2('caaabbbaacdddd'))\n",
    "print(remove_adj_2('acaaabbbacdddd'))\n",
    "print(remove_adj_2('abccbccba'))\n",
    "print(remove_adj_2('geeksforgeek'))"
   ]
  },
  {
   "cell_type": "markdown",
   "metadata": {},
   "source": [
    "### Print from 1 to N without using loops"
   ]
  },
  {
   "cell_type": "code",
   "execution_count": 62,
   "metadata": {},
   "outputs": [
    {
     "name": "stdout",
     "output_type": "stream",
     "text": [
      "1\n",
      "2\n",
      "3\n",
      "4\n",
      "5\n",
      "6\n",
      "7\n",
      "8\n",
      "9\n",
      "10\n"
     ]
    }
   ],
   "source": [
    "def printN(n):\n",
    "\n",
    "    if n == 0: return\n",
    "\n",
    "    printN(n-1)\n",
    "\n",
    "    print(n)\n",
    "\n",
    "printN(10)"
   ]
  },
  {
   "cell_type": "markdown",
   "metadata": {},
   "source": [
    "### Print N to 1 without using loops"
   ]
  },
  {
   "cell_type": "code",
   "execution_count": 63,
   "metadata": {},
   "outputs": [
    {
     "name": "stdout",
     "output_type": "stream",
     "text": [
      "10\n",
      "9\n",
      "8\n",
      "7\n",
      "6\n",
      "5\n",
      "4\n",
      "3\n",
      "2\n",
      "1\n"
     ]
    }
   ],
   "source": [
    "def printNrev(n):\n",
    "\n",
    "    if n == 0: return\n",
    "\n",
    "    print(n)\n",
    "\n",
    "    printNrev(n - 1)\n",
    "\n",
    "printNrev(10)"
   ]
  },
  {
   "cell_type": "markdown",
   "metadata": {},
   "source": [
    "### Insert an element at the front and back of a queue"
   ]
  },
  {
   "cell_type": "code",
   "execution_count": 76,
   "metadata": {},
   "outputs": [
    {
     "data": {
      "text/plain": [
       "[0, 1, 2, 3]"
      ]
     },
     "execution_count": 76,
     "metadata": {},
     "output_type": "execute_result"
    }
   ],
   "source": [
    "def insert_front(queue, x):\n",
    "\n",
    "    if queue == []:\n",
    "        queue.append(x)\n",
    "        return queue\n",
    "\n",
    "    element = queue.pop(0)\n",
    "\n",
    "    queue = insert_front(queue, x)\n",
    "\n",
    "    queue.append(element)\n",
    "\n",
    "    return queue\n",
    "\n",
    "\n",
    "\n",
    "insert_front(queue=[1,2,3][::-1], x = 0)\n",
    "\n",
    "\n",
    "# def insert_at_front(queue, element):\n",
    "\n",
    "#     if queue == []: return queue\n",
    "\n",
    "#     x = queue.pop(0)\n",
    "\n",
    "#     queue = insert_at_front(queue)\n",
    "\n",
    "#     queue = insert_front(queue, x)\n",
    "\n",
    "#     return queue"
   ]
  },
  {
   "cell_type": "code",
   "execution_count": 78,
   "metadata": {},
   "outputs": [
    {
     "data": {
      "text/plain": [
       "[1, 2, 3, 4]"
      ]
     },
     "execution_count": 78,
     "metadata": {},
     "output_type": "execute_result"
    }
   ],
   "source": [
    "###def insert at end\n",
    "def insert_end(queue, size, new_element):\n",
    "\n",
    "    if size == 0:\n",
    "        if new_element: queue.append(new_element)\n",
    "        return queue\n",
    "\n",
    "    x = queue.pop(0)\n",
    "    queue.append(x)\n",
    "    return insert_end(queue, size-1, new_element)\n",
    "\n",
    "\n",
    "insert_end(queue=[1,2,3], size=3, new_element=4)"
   ]
  },
  {
   "cell_type": "code",
   "execution_count": 82,
   "metadata": {},
   "outputs": [
    {
     "data": {
      "text/plain": [
       "[4, 1, 2, 3]"
      ]
     },
     "execution_count": 82,
     "metadata": {},
     "output_type": "execute_result"
    }
   ],
   "source": [
    "### insert at front\n",
    "def insert_front(queue, element):\n",
    "\n",
    "    queue.append(element)\n",
    "    return insert_end(queue, len(queue)-1, None)\n",
    "\n",
    "insert_front(queue=[1,2,3], element=4)"
   ]
  },
  {
   "cell_type": "markdown",
   "metadata": {},
   "source": [
    "### Reverse a Queue\n",
    "\n",
    "Queue operations\n",
    "1. push/add element: append(), add at rear.\n",
    "2. pop/remove element: pop(0), remove from front.\n",
    "3. is_empty : == []\n",
    "\n"
   ]
  },
  {
   "cell_type": "code",
   "execution_count": 64,
   "metadata": {},
   "outputs": [
    {
     "data": {
      "text/plain": [
       "[5, 4, 3, 2, 1]"
      ]
     },
     "execution_count": 64,
     "metadata": {},
     "output_type": "execute_result"
    }
   ],
   "source": [
    "def rev_queue(queue):\n",
    "\n",
    "    if queue == []: return queue\n",
    "\n",
    "    element = queue.pop(0)\n",
    "    queue = rev_queue(queue)\n",
    "    queue.append(element)\n",
    "    return queue\n",
    "\n",
    "\n",
    "rev_queue(queue=[1,2,3,4,5])"
   ]
  },
  {
   "cell_type": "markdown",
   "metadata": {},
   "source": [
    "### Reverse k elements of Queue"
   ]
  },
  {
   "cell_type": "code",
   "execution_count": null,
   "metadata": {},
   "outputs": [],
   "source": [
    "def front2last(q, size):\n",
    "    \n",
    "    if size == 0: return q\n",
    "    \n",
    "    q.append(q.pop(0))\n",
    "    \n",
    "    return front2last(q, size-1)\n",
    "\n",
    "def reverse_k(q, k):\n",
    "    \n",
    "    if k == 0:\n",
    "        return q\n",
    "    \n",
    "    x = q.pop(0)\n",
    "    \n",
    "    queue = reverse_k(q, k-1)\n",
    "\n",
    "    queue.append(x)\n",
    "    \n",
    "    return queue\n",
    "\n",
    "def modifyQueue(q,k):\n",
    "    # code here\n",
    "    \n",
    "    queue = reverse_k(q, k)\n",
    "    queue = front2last(q, len(q)-k)\n",
    "    \n",
    "    return queue\n",
    "    "
   ]
  },
  {
   "cell_type": "markdown",
   "metadata": {},
   "source": [
    "### insert_at_correct_pos\n",
    "\n",
    "queue = [1, 2, 4]\n",
    "\n",
    "new_element = 3\n",
    "\n",
    "queue = [1, 2, 3, 4]\n"
   ]
  },
  {
   "cell_type": "code",
   "execution_count": 95,
   "metadata": {},
   "outputs": [
    {
     "data": {
      "text/plain": [
       "[1, 2, 3, 4]"
      ]
     },
     "execution_count": 95,
     "metadata": {},
     "output_type": "execute_result"
    }
   ],
   "source": [
    "def front2last(queue, size):\n",
    "\n",
    "    if size == 0: return queue\n",
    "\n",
    "    queue.append(queue.pop(0))\n",
    "\n",
    "    return front2last(queue=queue, size=size-1)\n",
    "\n",
    "\n",
    "def insert_correct_pos(queue, new_element, size):\n",
    "\n",
    "    if queue == [] or size == 0:\n",
    "        queue.append(new_element)\n",
    "        return queue\n",
    "\n",
    "    # if greater then front\n",
    "    if new_element > queue[0]:\n",
    "        queue.append(queue.pop(0))\n",
    "        return insert_correct_pos(queue, new_element, size-1)\n",
    "    else: ### of new_element is <= to front then insert this element to front.\n",
    "        # print(queue, size)\n",
    "        queue.append(new_element)\n",
    "        return front2last(queue=queue, size=size)\n",
    "\n",
    "insert_correct_pos(queue=[1,2,3], new_element=4, size=3)\n"
   ]
  },
  {
   "cell_type": "code",
   "execution_count": 96,
   "metadata": {},
   "outputs": [
    {
     "data": {
      "text/plain": [
       "[1, 2, 3, 4]"
      ]
     },
     "execution_count": 96,
     "metadata": {},
     "output_type": "execute_result"
    }
   ],
   "source": [
    "\n",
    "insert_correct_pos(queue=[1,3,4], new_element=2, size=3)"
   ]
  },
  {
   "cell_type": "code",
   "execution_count": 97,
   "metadata": {},
   "outputs": [
    {
     "data": {
      "text/plain": [
       "[0, 1, 3, 4]"
      ]
     },
     "execution_count": 97,
     "metadata": {},
     "output_type": "execute_result"
    }
   ],
   "source": [
    "\n",
    "insert_correct_pos(queue=[1,3,4], new_element=0, size=3)"
   ]
  },
  {
   "cell_type": "markdown",
   "metadata": {},
   "source": [
    "### Sorting a queue using recursion\n",
    "\n",
    "queue = [5,4,1,2,3]\n",
    "\n",
    "after recursion queue = []\n",
    "\n",
    "Now start adding elements\n",
    "1. add element if queue is empty\n",
    "2. if element in smaller then or equal to front then do insert at first or do front to last.\n",
    "3. if element is greater then front of queue then do insert at correct pos.\n",
    "\n",
    "    new_element = 5, queue = [1,2,3] -> append(5) -> [1,2,3,5]\n",
    "    new_element = 4, queue = [1,2,3,5] ???\n",
    "\n",
    "\n",
    "\n"
   ]
  },
  {
   "cell_type": "code",
   "execution_count": 98,
   "metadata": {},
   "outputs": [],
   "source": [
    "def front2last(queue, size):\n",
    "\n",
    "    if size == 0: return queue\n",
    "\n",
    "    queue.append(queue.pop(0))\n",
    "\n",
    "    return front2last(queue=queue, size=size-1)\n",
    "\n",
    "\n",
    "def insert_correct_pos(queue, new_element, size):\n",
    "\n",
    "    if queue == [] or size == 0:\n",
    "        queue.append(new_element)\n",
    "        return queue\n",
    "\n",
    "    # if greater then front\n",
    "    if new_element > queue[0]:\n",
    "        queue.append(queue.pop(0))\n",
    "        return insert_correct_pos(queue, new_element, size-1)\n",
    "    else: ### of new_element is <= to front then insert this element to front.\n",
    "        queue.append(new_element)\n",
    "        return front2last(queue=queue, size=size)\n",
    "\n",
    "\n",
    "\n",
    "def sortQueue(queue):\n",
    "\n",
    "    if not queue: return queue\n",
    "\n",
    "    x = queue.pop(0)\n",
    "\n",
    "    queue = sortQueue(queue=queue)\n",
    "\n",
    "    return insert_correct_pos(queue=queue, new_element=x, size=len(queue))"
   ]
  },
  {
   "cell_type": "code",
   "execution_count": 99,
   "metadata": {},
   "outputs": [
    {
     "data": {
      "text/plain": [
       "[1, 2, 3, 4, 5]"
      ]
     },
     "execution_count": 99,
     "metadata": {},
     "output_type": "execute_result"
    }
   ],
   "source": [
    "\n",
    "sortQueue(queue=[5,4,3,2,1])"
   ]
  },
  {
   "cell_type": "code",
   "execution_count": 100,
   "metadata": {},
   "outputs": [
    {
     "data": {
      "text/plain": [
       "[1, 2, 3, 4, 5]"
      ]
     },
     "execution_count": 100,
     "metadata": {},
     "output_type": "execute_result"
    }
   ],
   "source": [
    "\n",
    "sortQueue(queue=[5,4,1,2,3])"
   ]
  },
  {
   "cell_type": "code",
   "execution_count": 101,
   "metadata": {},
   "outputs": [
    {
     "data": {
      "text/plain": [
       "[1, 2, 3, 4, 5]"
      ]
     },
     "execution_count": 101,
     "metadata": {},
     "output_type": "execute_result"
    }
   ],
   "source": [
    "sortQueue(queue=[1,2,3,4,5])"
   ]
  }
 ],
 "metadata": {
  "kernelspec": {
   "display_name": "base",
   "language": "python",
   "name": "python3"
  },
  "language_info": {
   "codemirror_mode": {
    "name": "ipython",
    "version": 3
   },
   "file_extension": ".py",
   "mimetype": "text/x-python",
   "name": "python",
   "nbconvert_exporter": "python",
   "pygments_lexer": "ipython3",
   "version": "3.9.15"
  },
  "orig_nbformat": 4
 },
 "nbformat": 4,
 "nbformat_minor": 2
}
